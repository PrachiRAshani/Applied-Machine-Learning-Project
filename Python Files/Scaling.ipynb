{
 "cells": [
  {
   "cell_type": "markdown",
   "id": "ff1ec3c7",
   "metadata": {},
   "source": [
    "## Installing the packages"
   ]
  },
  {
   "cell_type": "code",
   "execution_count": 1,
   "id": "7f001603",
   "metadata": {},
   "outputs": [],
   "source": [
    "# pip install dython"
   ]
  },
  {
   "cell_type": "code",
   "execution_count": 2,
   "id": "dd7dc1fa",
   "metadata": {},
   "outputs": [],
   "source": [
    "# pip install association_metrics"
   ]
  },
  {
   "cell_type": "code",
   "execution_count": 3,
   "id": "1867e0a4",
   "metadata": {},
   "outputs": [],
   "source": [
    "# pip install geopy"
   ]
  },
  {
   "cell_type": "markdown",
   "id": "9982ac49",
   "metadata": {},
   "source": [
    "## Importing the libraries"
   ]
  },
  {
   "cell_type": "code",
   "execution_count": 4,
   "id": "cdbd176d",
   "metadata": {
    "lines_to_next_cell": 2
   },
   "outputs": [],
   "source": [
    "import os\n",
    "import sys\n",
    "\n",
    "import numpy as np\n",
    "import pandas as pd\n",
    "\n",
    "from geopy.geocoders import Nominatim\n",
    "from geopy.extra.rate_limiter import RateLimiter\n",
    "\n",
    "from statsmodels.stats.outliers_influence import variance_inflation_factor\n",
    "\n",
    "import matplotlib.pyplot as plt  \n",
    "import seaborn as sns\n",
    "\n",
    "from sklearn import preprocessing\n",
    "from sklearn.preprocessing import LabelEncoder\n",
    "\n",
    "from dython.nominal import associations"
   ]
  },
  {
   "cell_type": "code",
   "execution_count": 5,
   "id": "7d391798",
   "metadata": {},
   "outputs": [],
   "source": [
    "os.chdir('C:/Users/prach/OneDrive - Singapore Management University/Documents/Term 5/Applied Machine Learning/Project')"
   ]
  },
  {
   "cell_type": "markdown",
   "id": "cfdd0a80",
   "metadata": {},
   "source": [
    "### Splitting the dataset into train and test sets"
   ]
  },
  {
   "cell_type": "code",
   "execution_count": 6,
   "id": "cfbac082",
   "metadata": {},
   "outputs": [],
   "source": [
    "cars_coded = pd.read_csv(\"used_cars_data/cars_coded.csv\")"
   ]
  },
  {
   "cell_type": "code",
   "execution_count": 7,
   "id": "a3050463",
   "metadata": {},
   "outputs": [],
   "source": [
    "cars_array = cars_coded.to_numpy()"
   ]
  },
  {
   "cell_type": "code",
   "execution_count": 8,
   "id": "2d7f7b74",
   "metadata": {},
   "outputs": [],
   "source": [
    "np.random.seed(2023)\n",
    "\n",
    "train = np.random.choice([True, False], cars_array.shape[0], replace = True, p = [0.8, 0.2])\n",
    "x_train = cars_array[train, :-1]\n",
    "y_train = cars_array[train, -1]\n",
    "x_test = cars_array[~train, :-1]\n",
    "y_test = cars_array[~train, -1]\n",
    "# ~ tilde sign is a special usage on numpy Boolean array"
   ]
  },
  {
   "cell_type": "markdown",
   "id": "591496f4",
   "metadata": {},
   "source": [
    "### Scaling the train and test sets using Robust and Standard Scaler\n",
    "\n",
    "Robust and Standard scaling helps with eliminating the outliers, normalizing, and standardizing the datasets"
   ]
  },
  {
   "cell_type": "code",
   "execution_count": 9,
   "id": "a69a3029",
   "metadata": {},
   "outputs": [],
   "source": [
    "def scaling(x, y):\n",
    "    scale = preprocessing.RobustScaler()\n",
    "    x_t1 = scale.fit_transform(x[:, :-1], y)\n",
    "    \n",
    "    scale = preprocessing.StandardScaler()\n",
    "    x_t2 = scale.fit_transform(x_t1, y)\n",
    "    \n",
    "    return(x_t2)"
   ]
  },
  {
   "cell_type": "code",
   "execution_count": 10,
   "id": "979b69a1",
   "metadata": {},
   "outputs": [],
   "source": [
    "x_train_scaled = scaling(x_train, y_train)\n",
    "x_test_scaled = scaling(x_test, y_test)"
   ]
  }
 ],
 "metadata": {
  "jupytext": {
   "cell_metadata_filter": "-all",
   "encoding": "# coding: utf-8",
   "executable": "/usr/bin/env python",
   "main_language": "python",
   "notebook_metadata_filter": "-all"
  },
  "kernelspec": {
   "display_name": "Python 3 (ipykernel)",
   "language": "python",
   "name": "python3"
  },
  "language_info": {
   "codemirror_mode": {
    "name": "ipython",
    "version": 3
   },
   "file_extension": ".py",
   "mimetype": "text/x-python",
   "name": "python",
   "nbconvert_exporter": "python",
   "pygments_lexer": "ipython3",
   "version": "3.9.7"
  }
 },
 "nbformat": 4,
 "nbformat_minor": 5
}
