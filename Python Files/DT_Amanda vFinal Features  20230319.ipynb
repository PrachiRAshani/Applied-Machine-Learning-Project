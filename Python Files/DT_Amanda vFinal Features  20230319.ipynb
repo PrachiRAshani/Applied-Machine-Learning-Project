{
 "cells": [
  {
   "attachments": {},
   "cell_type": "markdown",
   "id": "f79092f1",
   "metadata": {},
   "source": [
    "# Prep"
   ]
  },
  {
   "attachments": {},
   "cell_type": "markdown",
   "id": "95f3e0c7",
   "metadata": {},
   "source": [
    "## Change colour of graphs depending on background colour of IDE"
   ]
  },
  {
   "cell_type": "code",
   "execution_count": 1,
   "id": "1747c1bf",
   "metadata": {},
   "outputs": [],
   "source": [
    "# set_colour_based_on_backgrnd = 'white'\n",
    "set_colour_based_on_backgrnd = 'black'\n"
   ]
  },
  {
   "cell_type": "markdown",
   "id": "9982ac49",
   "metadata": {},
   "source": [
    "## Importing the libraries"
   ]
  },
  {
   "cell_type": "code",
   "execution_count": 2,
   "id": "cdbd176d",
   "metadata": {
    "lines_to_next_cell": 2
   },
   "outputs": [],
   "source": [
    "import numpy as np\n",
    "import pandas as pd\n",
    "\n",
    "from statsmodels.stats.outliers_influence import variance_inflation_factor\n",
    "\n",
    "import matplotlib.pyplot as plt  \n",
    "import seaborn as sns\n",
    "\n",
    "from sklearn import preprocessing\n",
    "\n",
    "from sklearn import tree\n",
    "from sklearn import metrics\n",
    "from sklearn.model_selection import train_test_split, KFold, cross_val_score\n",
    "from sklearn.inspection import permutation_importance\n",
    "\n",
    "import copy"
   ]
  },
  {
   "cell_type": "code",
   "execution_count": 3,
   "id": "bb27e7f0",
   "metadata": {},
   "outputs": [],
   "source": [
    "if set_colour_based_on_backgrnd == 'black':\n",
    "    plt.style.use('dark_background')\n",
    "elif set_colour_based_on_backgrnd == 'white':\n",
    "    plt.style.use('default')\n"
   ]
  },
  {
   "attachments": {},
   "cell_type": "markdown",
   "id": "96db414e",
   "metadata": {},
   "source": [
    "## Reading the dataset & prep"
   ]
  },
  {
   "cell_type": "code",
   "execution_count": 4,
   "id": "795721a9",
   "metadata": {},
   "outputs": [],
   "source": [
    "cars_dataset = pd.read_csv(\"cars_coded.csv\")"
   ]
  },
  {
   "cell_type": "code",
   "execution_count": 5,
   "id": "9df5a1dc",
   "metadata": {},
   "outputs": [],
   "source": [
    "cars_dataset = cars_dataset.drop(['savings_amount'], axis=1)"
   ]
  },
  {
   "attachments": {},
   "cell_type": "markdown",
   "id": "be2c9fc3",
   "metadata": {},
   "source": [
    "## Process data"
   ]
  },
  {
   "cell_type": "code",
   "execution_count": 6,
   "id": "d3045fc0",
   "metadata": {},
   "outputs": [],
   "source": [
    "def process(df):\n",
    "    cars_coded = df.copy(deep=True)\n",
    "    temp_df = cars_coded.drop(['price'], axis=1)\n",
    "    col_names = list(temp_df.columns)\n",
    "    print('len(col_names) =', len(col_names))\n",
    "    cars_array = cars_coded.to_numpy()\n",
    "\n",
    "    return cars_array, col_names"
   ]
  },
  {
   "cell_type": "code",
   "execution_count": 7,
   "id": "20154057",
   "metadata": {},
   "outputs": [
    {
     "name": "stdout",
     "output_type": "stream",
     "text": [
      "len(col_names) = 149\n"
     ]
    }
   ],
   "source": [
    "cars_array,col_names = process(cars_dataset)"
   ]
  },
  {
   "cell_type": "markdown",
   "id": "cfdd0a80",
   "metadata": {},
   "source": [
    "### Splitting the dataset into train and test sets"
   ]
  },
  {
   "cell_type": "code",
   "execution_count": 8,
   "id": "2d7f7b74",
   "metadata": {},
   "outputs": [
    {
     "name": "stdout",
     "output_type": "stream",
     "text": [
      "Train size: 0.600\n",
      "Validation size: 0.200\n",
      "Test size: 0.200\n"
     ]
    }
   ],
   "source": [
    "random_state = 2023\n",
    "\n",
    "x =  cars_array[:, :-1]\n",
    "y =  cars_array[:,-1]\n",
    "\n",
    "x_train, x_test_val, y_train, y_test_val = train_test_split(x, y, test_size=0.4, random_state=random_state)\n",
    "x_test, x_val, y_test, y_val = train_test_split(x_test_val, y_test_val, test_size=0.5, random_state=random_state)\n",
    "\n",
    "# Validate size (as %) of sets\n",
    "print(\"Train size: %.3f\" % (x_train.shape[0]/ x.shape[0]))\n",
    "print(\"Validation size: %.3f\" % (x_val.shape[0]/ x.shape[0]))\n",
    "print(\"Test size: %.3f\" % (x_test.shape[0]/ x.shape[0]))\n"
   ]
  },
  {
   "attachments": {},
   "cell_type": "markdown",
   "id": "5cd94899",
   "metadata": {},
   "source": [
    "Prep MPSE function"
   ]
  },
  {
   "cell_type": "code",
   "execution_count": 9,
   "id": "5402b46c",
   "metadata": {},
   "outputs": [],
   "source": [
    "def mape(actual, predicted):\n",
    "    return sum(abs((actual - predicted) / actual)) / len(actual)"
   ]
  },
  {
   "cell_type": "code",
   "execution_count": 10,
   "id": "79ed5c01",
   "metadata": {},
   "outputs": [],
   "source": [
    "# Prep for BV-graph\n",
    "\n",
    "num_test = 20\n",
    "np.random.seed(random_state)\n",
    "cnt= 50\n",
    "select_index = [np.random.choice(len(x_test)-1,cnt) for i in range(num_test)]"
   ]
  },
  {
   "cell_type": "markdown",
   "id": "591496f4",
   "metadata": {},
   "source": [
    "### Scaling the train and test sets using Robust and Standard Scaler\n",
    "\n",
    "Robust and Standard scaling helps with eliminating the outliers, normalizing, and standardizing the datasets"
   ]
  },
  {
   "cell_type": "code",
   "execution_count": 11,
   "id": "a69a3029",
   "metadata": {},
   "outputs": [],
   "source": [
    "def scaling(x, y):\n",
    "    scale = preprocessing.RobustScaler()\n",
    "    x_t1 = scale.fit_transform(x, y)\n",
    "    \n",
    "    scale = preprocessing.StandardScaler()\n",
    "    x_t2 = scale.fit_transform(x_t1, y)\n",
    "    \n",
    "    return(x_t2)"
   ]
  },
  {
   "cell_type": "code",
   "execution_count": 12,
   "id": "979b69a1",
   "metadata": {},
   "outputs": [],
   "source": [
    "x_train_scaled = scaling(x_train, y_train)\n",
    "x_test_scaled = scaling(x_test, y_test)\n",
    "x_val_scaled = scaling(x_val, y_val)"
   ]
  },
  {
   "cell_type": "code",
   "execution_count": 13,
   "metadata": {},
   "outputs": [
    {
     "data": {
      "text/plain": [
       "(952025, 149)"
      ]
     },
     "execution_count": 13,
     "metadata": {},
     "output_type": "execute_result"
    }
   ],
   "source": [
    "x_train_scaled.shape"
   ]
  },
  {
   "cell_type": "code",
   "execution_count": 14,
   "id": "0b9f7539",
   "metadata": {},
   "outputs": [],
   "source": [
    "def scaling_std(x, y):\n",
    "    scale = preprocessing.RobustScaler()\n",
    "    return scale.fit_transform(x, y)\n",
    "\n",
    "x_train_scaledstd = scaling_std(x_train, y_train)\n",
    "x_test_scaledstd = scaling_std(x_test, y_test)\n",
    "x_val_scaledstd = scaling_std(x_val, y_val)"
   ]
  },
  {
   "attachments": {},
   "cell_type": "markdown",
   "id": "d78e98cb",
   "metadata": {},
   "source": [
    "# Decision Tree Analysis (Linear Regression)"
   ]
  },
  {
   "attachments": {},
   "cell_type": "markdown",
   "id": "023ee647",
   "metadata": {},
   "source": [
    "### Run DT on NOT scaled variables"
   ]
  },
  {
   "cell_type": "code",
   "execution_count": 15,
   "id": "d404a38d",
   "metadata": {},
   "outputs": [
    {
     "data": {
      "text/plain": [
       "DecisionTreeRegressor(random_state=2023)"
      ]
     },
     "execution_count": 15,
     "metadata": {},
     "output_type": "execute_result"
    }
   ],
   "source": [
    "dt_notscaled = tree.DecisionTreeRegressor(random_state = random_state)\n",
    "dt_notscaled.fit(x_train, y_train)"
   ]
  },
  {
   "cell_type": "code",
   "execution_count": 16,
   "id": "7801de86",
   "metadata": {},
   "outputs": [
    {
     "name": "stdout",
     "output_type": "stream",
     "text": [
      "RMSE: 9411.820947\n",
      "R^2: 0.639744\n",
      "MAPE: 0.103159\n"
     ]
    }
   ],
   "source": [
    "y_pred_dt_notscaled = dt_notscaled.predict(x_val)\n",
    "\n",
    "print(\"RMSE: %.6f\" % np.sqrt(metrics.mean_squared_error(y_val, y_pred_dt_notscaled)))\n",
    "print(\"R^2: %.6f\" % metrics.r2_score(y_val, y_pred_dt_notscaled))\n",
    "print(\"MAPE: %.6f\" % mape(y_val, y_pred_dt_notscaled))\n"
   ]
  },
  {
   "cell_type": "code",
   "execution_count": 17,
   "id": "8788b2e5",
   "metadata": {},
   "outputs": [
    {
     "name": "stdout",
     "output_type": "stream",
     "text": [
      "Mean Error, x = 10203.906000  y = 10203.906000\n",
      "Mean Var Error, x = 221546393.422010  y = 221546393.422010\n"
     ]
    },
    {
     "data": {
      "image/png": "[encoded data removed]",
      "text/plain": [
       "<Figure size 432x288 with 1 Axes>"
      ]
     },
     "metadata": {},
     "output_type": "display_data"
    }
   ],
   "source": [
    "# Prep for BV-graph\n",
    "plotsize = (-15000,15000)\n",
    "\n",
    "# Create Bias-Variance graph for dt_notscaled\n",
    "\n",
    "error = np.zeros((num_test, 2))\n",
    "var = np.zeros((num_test, 2))\n",
    "for i in range(num_test):\n",
    "    err = y_val[select_index[i]] - dt_notscaled.predict(x_val_scaled[select_index[i],:])\n",
    "    error[i,:] = np.mean(err, axis = 0)\n",
    "    var[i,:] = np.var(err, axis = 0)\n",
    "\n",
    "\n",
    "plt.subplot(1,1,1)\n",
    "plt.scatter(error[:,0], error[:,1], color = 'red')\n",
    "plt.scatter(np.mean(error[:,0]), np.mean(error[:,1]), marker = 'x', color = 'blue')\n",
    "plt.scatter(0.0, 0.0, marker = 'x', color = 'green')\n",
    "plt.xlim(plotsize[0], plotsize[1])\n",
    "plt.ylim(plotsize[0], plotsize[1])\n",
    "\n",
    "print(\"Mean Error, x = %.6f\" % np.mean(error[:,0]),\" y = %.6f\" % np.mean(error[:,1])  )\n",
    "print(\"Mean Var Error, x = %.6f\" % np.mean(var[:,0]),\" y = %.6f\" % np.mean(var[:,1])  )"
   ]
  },
  {
   "attachments": {},
   "cell_type": "markdown",
   "id": "86dd4b17",
   "metadata": {},
   "source": [
    "### Run DT on scaled variables (STD)"
   ]
  },
  {
   "cell_type": "code",
   "execution_count": 18,
   "id": "4738866b",
   "metadata": {},
   "outputs": [
    {
     "data": {
      "text/plain": [
       "DecisionTreeRegressor(random_state=2023)"
      ]
     },
     "execution_count": 18,
     "metadata": {},
     "output_type": "execute_result"
    }
   ],
   "source": [
    "dt_scaledstd = tree.DecisionTreeRegressor(random_state = random_state)\n",
    "dt_scaledstd.fit(x_train_scaledstd, y_train)"
   ]
  },
  {
   "cell_type": "code",
   "execution_count": 19,
   "id": "ca63310f",
   "metadata": {},
   "outputs": [
    {
     "name": "stdout",
     "output_type": "stream",
     "text": [
      "RMSE: 8153.841152\n",
      "R^2: 0.729611\n",
      "MAPE: 0.104714\n"
     ]
    }
   ],
   "source": [
    "y_pred_dt_scaledstd = dt_scaledstd.predict(x_val_scaledstd)\n",
    "\n",
    "print(\"RMSE: %.6f\" % np.sqrt(metrics.mean_squared_error(y_val, y_pred_dt_scaledstd)))\n",
    "print(\"R^2: %.6f\" % metrics.r2_score(y_val, y_pred_dt_scaledstd))\n",
    "print(\"MAPE: %.6f\" % mape(y_val, y_pred_dt_scaledstd))\n"
   ]
  },
  {
   "cell_type": "code",
   "execution_count": 20,
   "id": "f2168937",
   "metadata": {},
   "outputs": [
    {
     "name": "stdout",
     "output_type": "stream",
     "text": [
      "Mean Error, x = -184.934476  y = -184.934476\n",
      "Mean Var Error, x = 17826335.368777  y = 17826335.368777\n"
     ]
    },
    {
     "data": {
      "image/png": "[encoded data removed]",
      "text/plain": [
       "<Figure size 432x288 with 1 Axes>"
      ]
     },
     "metadata": {},
     "output_type": "display_data"
    }
   ],
   "source": [
    "# Prep for BV-graph\n",
    "plotsize = (-300,300)\n",
    "\n",
    "# Create Bias-Variance graph for dt_notscaled\n",
    "\n",
    "error = np.zeros((num_test, 2))\n",
    "var = np.zeros((num_test, 2))\n",
    "for i in range(num_test):\n",
    "    err = y_val[select_index[i]] - y_pred_dt_scaledstd[select_index[i]]\n",
    "    error[i,:] = np.mean(err, axis = 0)\n",
    "    var[i,:] = np.var(err, axis = 0)\n",
    "\n",
    "\n",
    "plt.subplot(1,1,1)\n",
    "plt.scatter(error[:,0], error[:,1], color = 'red')\n",
    "plt.scatter(np.mean(error[:,0]), np.mean(error[:,1]), marker = 'x', color = 'blue')\n",
    "plt.scatter(0.0, 0.0, marker = 'x', color = 'green')\n",
    "plt.xlim(plotsize[0], plotsize[1])\n",
    "plt.ylim(plotsize[0], plotsize[1])\n",
    "\n",
    "print(\"Mean Error, x = %.6f\" % np.mean(error[:,0]),\" y = %.6f\" % np.mean(error[:,1])  )\n",
    "print(\"Mean Var Error, x = %.6f\" % np.mean(var[:,0]),\" y = %.6f\" % np.mean(var[:,1])  )\n"
   ]
  },
  {
   "attachments": {},
   "cell_type": "markdown",
   "id": "d14bbd9a",
   "metadata": {},
   "source": [
    "### Run DT on scaled variables (Robust + STD)"
   ]
  },
  {
   "cell_type": "code",
   "execution_count": 21,
   "id": "cac9f840",
   "metadata": {},
   "outputs": [
    {
     "data": {
      "text/plain": [
       "DecisionTreeRegressor(random_state=2023)"
      ]
     },
     "execution_count": 21,
     "metadata": {},
     "output_type": "execute_result"
    }
   ],
   "source": [
    "dt_scaled = tree.DecisionTreeRegressor(random_state = random_state)\n",
    "dt_scaled.fit(x_train_scaled, y_train)"
   ]
  },
  {
   "cell_type": "code",
   "execution_count": 22,
   "id": "147dba0c",
   "metadata": {},
   "outputs": [
    {
     "name": "stdout",
     "output_type": "stream",
     "text": [
      "RMSE: 6787.011938\n",
      "R^2: 0.812664\n",
      "MAPE: 0.112231\n"
     ]
    }
   ],
   "source": [
    "y_pred_dt_scaled = dt_scaled.predict(x_val_scaled)\n",
    "print(\"RMSE: %.6f\" % np.sqrt(metrics.mean_squared_error(y_val, y_pred_dt_scaled)))\n",
    "print(\"R^2: %.6f\" % metrics.r2_score(y_val, y_pred_dt_scaled))\n",
    "print(\"MAPE: %.6f\" % mape(y_val, y_pred_dt_scaled))\n"
   ]
  },
  {
   "cell_type": "code",
   "execution_count": 23,
   "id": "bb0b0628",
   "metadata": {},
   "outputs": [
    {
     "name": "stdout",
     "output_type": "stream",
     "text": [
      "Mean Error, x = -311.033809  y = -311.033809\n",
      "Mean Var Error, x = 21661116.901761  y = 21661116.901761\n"
     ]
    },
    {
     "data": {
      "image/png": "[encoded data removed]",
      "text/plain": [
       "<Figure size 432x288 with 1 Axes>"
      ]
     },
     "metadata": {},
     "output_type": "display_data"
    }
   ],
   "source": [
    "# Prep for BV-graph\n",
    "plotsize = (-500,500)\n",
    "\n",
    "# Create Bias-Variance graph for DT1\n",
    "\n",
    "error = np.zeros((num_test, 2))\n",
    "var = np.zeros((num_test, 2))\n",
    "for i in range(num_test):\n",
    "    err = y_val[select_index[i]] - y_pred_dt_scaled[select_index[i]]\n",
    "    error[i,:] = np.mean(err, axis = 0)\n",
    "    var[i,:] = np.var(err, axis = 0)\n",
    "\n",
    "\n",
    "plt.subplot(1,1,1)\n",
    "plt.scatter(error[:,0], error[:,1], color = 'red')\n",
    "plt.scatter(np.mean(error[:,0]), np.mean(error[:,1]), marker = 'x', color = 'blue')\n",
    "plt.scatter(0.0, 0.0, marker = 'x', color = 'green')\n",
    "plt.xlim(plotsize[0], plotsize[1])\n",
    "plt.ylim(plotsize[0], plotsize[1])\n",
    "\n",
    "print(\"Mean Error, x = %.6f\" % np.mean(error[:,0]),\" y = %.6f\" % np.mean(error[:,1])  )\n",
    "print(\"Mean Var Error, x = %.6f\" % np.mean(var[:,0]),\" y = %.6f\" % np.mean(var[:,1])  )\n",
    "\n",
    "mean_error_dt_scaled = np.mean(error[:,0])\n",
    "mean_var_error_dt_scaled =np.mean(var[:,0])"
   ]
  },
  {
   "attachments": {},
   "cell_type": "markdown",
   "id": "5d2d2774",
   "metadata": {},
   "source": [
    "## Run feature importance analysis on DT on scaled variables (RBST + STD)"
   ]
  },
  {
   "cell_type": "code",
   "execution_count": 24,
   "id": "ad41a5c2",
   "metadata": {},
   "outputs": [
    {
     "data": {
      "text/plain": [
       "(0.0, 0.6)"
      ]
     },
     "execution_count": 24,
     "metadata": {},
     "output_type": "execute_result"
    },
    {
     "data": {
      "image/png": "[encoded data removed]",
      "text/plain": [
       "<Figure size 1440x360 with 1 Axes>"
      ]
     },
     "metadata": {},
     "output_type": "display_data"
    }
   ],
   "source": [
    "#all features\n",
    "f = plt.subplots(figsize=(20,5))\n",
    "plt.bar(col_names[:],list(dt_scaled.feature_importances_[:]))\n",
    "plt.ylim(0,0.6)"
   ]
  },
  {
   "cell_type": "markdown",
   "id": "923cc18c",
   "metadata": {},
   "source": [
    "Note: low feature importance noted likely because the one-hot encoding makes for sparse data. Hence zoom in on high feature importance variables."
   ]
  },
  {
   "cell_type": "code",
   "execution_count": 25,
   "id": "49500e0b",
   "metadata": {},
   "outputs": [
    {
     "data": {
      "text/plain": [
       "(0.0, 0.1)"
      ]
     },
     "execution_count": 25,
     "metadata": {},
     "output_type": "execute_result"
    },
    {
     "data": {
      "image/png": "[encoded data removed]",
      "text/plain": [
       "<Figure size 1440x360 with 1 Axes>"
      ]
     },
     "metadata": {},
     "output_type": "display_data"
    }
   ],
   "source": [
    "# body type\n",
    "left, right = 0, 8\n",
    "\n",
    "f = plt.subplots(figsize=(20,5))\n",
    "plt.bar(col_names[left:right],list(dt_scaled.feature_importances_[left:right]))\n",
    "plt.ylim(0,0.1)"
   ]
  },
  {
   "cell_type": "code",
   "execution_count": 26,
   "id": "f76f4e7d",
   "metadata": {},
   "outputs": [
    {
     "data": {
      "text/plain": [
       "(0.0, 0.1)"
      ]
     },
     "execution_count": 26,
     "metadata": {},
     "output_type": "execute_result"
    },
    {
     "data": {
      "image/png": "[encoded data removed]",
      "text/plain": [
       "<Figure size 1440x360 with 1 Axes>"
      ]
     },
     "metadata": {},
     "output_type": "display_data"
    }
   ],
   "source": [
    "# engine type\n",
    "left, right = 8, 12\n",
    "\n",
    "f = plt.subplots(figsize=(20,5))\n",
    "plt.bar(col_names[left:right],list(dt_scaled.feature_importances_[left:right]))\n",
    "plt.ylim(0,0.1)"
   ]
  },
  {
   "cell_type": "code",
   "execution_count": 27,
   "id": "d3763f8f",
   "metadata": {},
   "outputs": [
    {
     "data": {
      "text/plain": [
       "(0.0, 0.1)"
      ]
     },
     "execution_count": 27,
     "metadata": {},
     "output_type": "execute_result"
    },
    {
     "data": {
      "image/png": "[encoded data removed]",
      "text/plain": [
       "<Figure size 1440x360 with 1 Axes>"
      ]
     },
     "metadata": {},
     "output_type": "display_data"
    }
   ],
   "source": [
    "# fuel type & is_new_True\n",
    "left, right = 12, 18\n",
    "\n",
    "f = plt.subplots(figsize=(20,5))\n",
    "plt.bar(col_names[left:right],list(dt_scaled.feature_importances_[left:right]))\n",
    "plt.ylim(0,0.1)"
   ]
  },
  {
   "cell_type": "code",
   "execution_count": 28,
   "id": "12200ac4",
   "metadata": {},
   "outputs": [
    {
     "data": {
      "text/plain": [
       "(0.0, 0.1)"
      ]
     },
     "execution_count": 28,
     "metadata": {},
     "output_type": "execute_result"
    },
    {
     "data": {
      "image/png": "[encoded data removed]",
      "text/plain": [
       "<Figure size 2160x360 with 1 Axes>"
      ]
     },
     "metadata": {},
     "output_type": "display_data"
    }
   ],
   "source": [
    "# listing_color\n",
    "left, right = 18,32\n",
    "\n",
    "f = plt.subplots(figsize=(30,5))\n",
    "plt.bar(col_names[left:right],list(dt_scaled.feature_importances_[left:right]))\n",
    "plt.ylim(0,0.1)"
   ]
  },
  {
   "cell_type": "code",
   "execution_count": 29,
   "id": "d1989b74",
   "metadata": {},
   "outputs": [
    {
     "data": {
      "text/plain": [
       "(0.0, 0.1)"
      ]
     },
     "execution_count": 29,
     "metadata": {},
     "output_type": "execute_result"
    },
    {
     "data": {
      "image/png": "[encoded data removed]",
      "text/plain": [
       "<Figure size 2160x360 with 1 Axes>"
      ]
     },
     "metadata": {},
     "output_type": "display_data"
    }
   ],
   "source": [
    "# make_name\n",
    "left, right = 32,78\n",
    "\n",
    "f = plt.subplots(figsize=(30,5))\n",
    "plt.bar(col_names[left:right],list(dt_scaled.feature_importances_[left:right]))\n",
    "plt.ylim(0,0.1)"
   ]
  },
  {
   "cell_type": "code",
   "execution_count": 30,
   "id": "6325b58f",
   "metadata": {},
   "outputs": [
    {
     "data": {
      "text/plain": [
       "(0.0, 0.1)"
      ]
     },
     "execution_count": 30,
     "metadata": {},
     "output_type": "execute_result"
    },
    {
     "data": {
      "image/png": "[encoded data removed]",
      "text/plain": [
       "<Figure size 2160x360 with 1 Axes>"
      ]
     },
     "metadata": {},
     "output_type": "display_data"
    }
   ],
   "source": [
    "# maximum_seating\n",
    "left, right = 78,88\n",
    "\n",
    "f = plt.subplots(figsize=(30,5))\n",
    "plt.bar(col_names[left:right],list(dt_scaled.feature_importances_[left:right]))\n",
    "plt.ylim(0,0.1)"
   ]
  },
  {
   "cell_type": "code",
   "execution_count": 31,
   "id": "fb03cddf",
   "metadata": {},
   "outputs": [
    {
     "data": {
      "text/plain": [
       "(0.0, 0.1)"
      ]
     },
     "execution_count": 31,
     "metadata": {},
     "output_type": "execute_result"
    },
    {
     "data": {
      "image/png": "[encoded data removed]",
      "text/plain": [
       "<Figure size 720x360 with 1 Axes>"
      ]
     },
     "metadata": {},
     "output_type": "display_data"
    }
   ],
   "source": [
    "# transmission\n",
    "left, right = 88,91\n",
    "\n",
    "f = plt.subplots(figsize=(10,5))\n",
    "plt.bar(col_names[left:right],list(dt_scaled.feature_importances_[left:right]))\n",
    "plt.ylim(0,0.1)"
   ]
  },
  {
   "cell_type": "code",
   "execution_count": 32,
   "id": "ca966d4a",
   "metadata": {},
   "outputs": [
    {
     "data": {
      "text/plain": [
       "(0.0, 0.1)"
      ]
     },
     "execution_count": 32,
     "metadata": {},
     "output_type": "execute_result"
    },
    {
     "data": {
      "image/png": "[encoded data removed]",
      "text/plain": [
       "<Figure size 720x360 with 1 Axes>"
      ]
     },
     "metadata": {},
     "output_type": "display_data"
    }
   ],
   "source": [
    "# wheel_system\n",
    "left, right = 91,95\n",
    "\n",
    "f = plt.subplots(figsize=(10,5))\n",
    "plt.bar(col_names[left:right],list(dt_scaled.feature_importances_[left:right]))\n",
    "plt.ylim(0,0.1)"
   ]
  },
  {
   "cell_type": "code",
   "execution_count": 33,
   "id": "866b2781",
   "metadata": {},
   "outputs": [
    {
     "data": {
      "text/plain": [
       "(0.0, 0.1)"
      ]
     },
     "execution_count": 33,
     "metadata": {},
     "output_type": "execute_result"
    },
    {
     "data": {
      "image/png": "[encoded data removed]",
      "text/plain": [
       "<Figure size 2160x360 with 1 Axes>"
      ]
     },
     "metadata": {},
     "output_type": "display_data"
    }
   ],
   "source": [
    "# state\n",
    "left, right = 95,145\n",
    "\n",
    "f = plt.subplots(figsize=(30,5))\n",
    "plt.bar(col_names[left:right],list(dt_scaled.feature_importances_[left:right]))\n",
    "plt.ylim(0,0.1)"
   ]
  },
  {
   "cell_type": "code",
   "execution_count": 34,
   "id": "e89b9436",
   "metadata": {},
   "outputs": [
    {
     "data": {
      "text/plain": [
       "(0.0, 0.6)"
      ]
     },
     "execution_count": 34,
     "metadata": {},
     "output_type": "execute_result"
    },
    {
     "data": {
      "image/png": "[encoded data removed]",
      "text/plain": [
       "<Figure size 2160x360 with 1 Axes>"
      ]
     },
     "metadata": {},
     "output_type": "display_data"
    }
   ],
   "source": [
    "# continuous variables\n",
    "left = 145\n",
    "\n",
    "f = plt.subplots(figsize=(30,5))\n",
    "plt.bar(col_names[left:],list(dt_scaled.feature_importances_[left:]))\n",
    "plt.ylim(0,0.6)"
   ]
  },
  {
   "attachments": {},
   "cell_type": "markdown",
   "id": "8bf3d200",
   "metadata": {},
   "source": [
    "## Omit variables based on feature importance results"
   ]
  },
  {
   "cell_type": "code",
   "execution_count": 35,
   "id": "278cf95e",
   "metadata": {},
   "outputs": [],
   "source": [
    "def omit_var(start_idx, end_idx, data):\n",
    "    idx_list = [idx for idx in range(start_idx,end_idx +1)]\n",
    "    return np.delete(data, idx_list, axis=1)"
   ]
  },
  {
   "cell_type": "code",
   "execution_count": 36,
   "id": "6362b68a",
   "metadata": {},
   "outputs": [],
   "source": [
    "standard_plot_size = (-1000,1000)"
   ]
  },
  {
   "attachments": {},
   "cell_type": "markdown",
   "id": "bb735f34",
   "metadata": {},
   "source": [
    "### Omit tranmission variable"
   ]
  },
  {
   "cell_type": "code",
   "execution_count": 37,
   "id": "19c6d23b",
   "metadata": {},
   "outputs": [
    {
     "name": "stdout",
     "output_type": "stream",
     "text": [
      "transmission_M transmission_CVT\n"
     ]
    }
   ],
   "source": [
    "# check col indexes\n",
    "print(col_names[90], col_names[88])"
   ]
  },
  {
   "cell_type": "code",
   "execution_count": 38,
   "id": "9795415e",
   "metadata": {},
   "outputs": [],
   "source": [
    "# omit columns\n",
    "col_names2 = copy.deepcopy(col_names)\n",
    "start_idx, end_idx = 88, 90\n",
    "\n",
    "x_test_scaled2 = omit_var(start_idx, end_idx, x_test_scaled)\n",
    "x_train_scaled2 = omit_var(start_idx, end_idx, x_train_scaled)\n",
    "x_val_scaled2 = omit_var(start_idx, end_idx, x_val_scaled)\n",
    "\n",
    "del col_names2[start_idx : end_idx+1]"
   ]
  },
  {
   "cell_type": "code",
   "execution_count": 39,
   "id": "862e02f6",
   "metadata": {},
   "outputs": [
    {
     "data": {
      "text/plain": [
       "(317342, 146)"
      ]
     },
     "execution_count": 39,
     "metadata": {},
     "output_type": "execute_result"
    }
   ],
   "source": [
    "x_val_scaled2.shape"
   ]
  },
  {
   "attachments": {},
   "cell_type": "markdown",
   "id": "cc741fce",
   "metadata": {},
   "source": [
    "##### Run DT Regression"
   ]
  },
  {
   "cell_type": "code",
   "execution_count": 40,
   "id": "b5ce0508",
   "metadata": {},
   "outputs": [
    {
     "data": {
      "text/plain": [
       "DecisionTreeRegressor(random_state=2023)"
      ]
     },
     "execution_count": 40,
     "metadata": {},
     "output_type": "execute_result"
    }
   ],
   "source": [
    "dt_scaled_2 = tree.DecisionTreeRegressor(random_state = random_state)\n",
    "dt_scaled_2.fit(x_train_scaled2, y_train)"
   ]
  },
  {
   "cell_type": "code",
   "execution_count": 41,
   "id": "a86159a4",
   "metadata": {},
   "outputs": [
    {
     "name": "stdout",
     "output_type": "stream",
     "text": [
      "RMSE: 6803.654947\n",
      "R^2: 0.811744\n",
      "MAPE: 0.112848\n"
     ]
    }
   ],
   "source": [
    "y_pred_dt_scaled_2 = dt_scaled_2.predict(x_val_scaled2)\n",
    "\n",
    "print(\"RMSE: %.6f\" % np.sqrt(metrics.mean_squared_error(y_val, y_pred_dt_scaled_2)))\n",
    "print(\"R^2: %.6f\" % metrics.r2_score(y_val, y_pred_dt_scaled_2))\n",
    "print(\"MAPE: %.6f\" % mape(y_val, y_pred_dt_scaled_2))\n"
   ]
  },
  {
   "cell_type": "code",
   "execution_count": 42,
   "id": "ab060876",
   "metadata": {},
   "outputs": [
    {
     "name": "stdout",
     "output_type": "stream",
     "text": [
      "Mean Error, x = -266.134609  y = -266.134609\n",
      "Mean Var Error, x = 20650338.287766  y = 20650338.287766\n"
     ]
    },
    {
     "data": {
      "image/png": "[encoded data removed]",
      "text/plain": [
       "<Figure size 432x288 with 1 Axes>"
      ]
     },
     "metadata": {},
     "output_type": "display_data"
    }
   ],
   "source": [
    "# Create Bias-Variance graph for dt_notscaled\n",
    "\n",
    "error = np.zeros((num_test, 2))\n",
    "var = np.zeros((num_test, 2))\n",
    "for i in range(num_test):\n",
    "    err = y_val[select_index[i]] - y_pred_dt_scaled_2[select_index[i]]\n",
    "    error[i,:] = np.mean(err, axis = 0)\n",
    "    var[i,:] = np.var(err, axis = 0)\n",
    "\n",
    "\n",
    "plt.subplot(1,1,1)\n",
    "plt.scatter(error[:,0], error[:,1], color = 'red')\n",
    "plt.scatter(np.mean(error[:,0]), np.mean(error[:,1]), marker = 'x', color = 'blue')\n",
    "plt.scatter(0.0, 0.0, marker = 'x', color = 'green')\n",
    "plt.xlim(standard_plot_size[0], standard_plot_size[1])\n",
    "plt.ylim(standard_plot_size[0], standard_plot_size[1])\n",
    "\n",
    "print(\"Mean Error, x = %.6f\" % np.mean(error[:,0]),\" y = %.6f\" % np.mean(error[:,1])  )\n",
    "print(\"Mean Var Error, x = %.6f\" % np.mean(var[:,0]),\" y = %.6f\" % np.mean(var[:,1])  )\n",
    "\n",
    "mean_error_dt_scaled_2 = np.mean(error[:,0])\n",
    "mean_var_error_dt_scaled_2 =np.mean(var[:,0])"
   ]
  },
  {
   "attachments": {},
   "cell_type": "markdown",
   "id": "30548493",
   "metadata": {},
   "source": [
    "### Omit fuel_type variable"
   ]
  },
  {
   "cell_type": "code",
   "execution_count": 43,
   "id": "2c695132",
   "metadata": {},
   "outputs": [
    {
     "name": "stdout",
     "output_type": "stream",
     "text": [
      "fuel_type_Compressed Natural Gas / fuel_type_Hybrid\n"
     ]
    }
   ],
   "source": [
    "# check col indexes\n",
    "print(col_names2[12],\"/\" , col_names2[16])"
   ]
  },
  {
   "cell_type": "code",
   "execution_count": 44,
   "id": "a57d3be3",
   "metadata": {},
   "outputs": [],
   "source": [
    "# omit columns\n",
    "col_names3 = copy.deepcopy(col_names2)\n",
    "start_idx, end_idx = 12, 16\n",
    "\n",
    "x_test_scaled3 = omit_var(start_idx, end_idx, x_test_scaled2)\n",
    "x_train_scaled3 = omit_var(start_idx, end_idx, x_train_scaled2)\n",
    "x_val_scaled3 = omit_var(start_idx, end_idx, x_val_scaled2)\n",
    "\n",
    "del col_names3[start_idx : end_idx+1]"
   ]
  },
  {
   "cell_type": "code",
   "execution_count": 45,
   "id": "f8c228fb",
   "metadata": {},
   "outputs": [
    {
     "data": {
      "text/plain": [
       "(317342, 141)"
      ]
     },
     "execution_count": 45,
     "metadata": {},
     "output_type": "execute_result"
    }
   ],
   "source": [
    "x_val_scaled3.shape"
   ]
  },
  {
   "cell_type": "markdown",
   "id": "c207e0a7",
   "metadata": {},
   "source": [
    "##### Run DT Regression"
   ]
  },
  {
   "cell_type": "code",
   "execution_count": 46,
   "id": "6e630950",
   "metadata": {},
   "outputs": [
    {
     "data": {
      "text/plain": [
       "DecisionTreeRegressor(random_state=2023)"
      ]
     },
     "execution_count": 46,
     "metadata": {},
     "output_type": "execute_result"
    }
   ],
   "source": [
    "dt_scaled_3 = tree.DecisionTreeRegressor(random_state = random_state)\n",
    "dt_scaled_3.fit(x_train_scaled3, y_train)"
   ]
  },
  {
   "cell_type": "code",
   "execution_count": 47,
   "id": "1453c118",
   "metadata": {},
   "outputs": [
    {
     "name": "stdout",
     "output_type": "stream",
     "text": [
      "RMSE: 6820.474784\n",
      "R^2: 0.810812\n",
      "MAPE: 0.113254\n"
     ]
    }
   ],
   "source": [
    "y_pred_dt_scaled_3 = dt_scaled_3.predict(x_val_scaled3)\n",
    "\n",
    "print(\"RMSE: %.6f\" % np.sqrt(metrics.mean_squared_error(y_val, y_pred_dt_scaled_3)))\n",
    "print(\"R^2: %.6f\" % metrics.r2_score(y_val, y_pred_dt_scaled_3))\n",
    "print(\"MAPE: %.6f\" % mape(y_val, y_pred_dt_scaled_3))\n"
   ]
  },
  {
   "cell_type": "code",
   "execution_count": 48,
   "id": "c06213de",
   "metadata": {},
   "outputs": [
    {
     "name": "stdout",
     "output_type": "stream",
     "text": [
      "Mean Error, x = -154.551042  y = -154.551042\n",
      "Mean Var Error, x = 19750958.856510  y = 19750958.856510\n"
     ]
    },
    {
     "data": {
      "image/png": "[encoded data removed]",
      "text/plain": [
       "<Figure size 432x288 with 1 Axes>"
      ]
     },
     "metadata": {},
     "output_type": "display_data"
    }
   ],
   "source": [
    "# Create Bias-Variance graph for dt_notscaled\n",
    "\n",
    "error = np.zeros((num_test, 2))\n",
    "var = np.zeros((num_test, 2))\n",
    "for i in range(num_test):\n",
    "    err = y_val[select_index[i]] - y_pred_dt_scaled_3[select_index[i]]\n",
    "    error[i,:] = np.mean(err, axis = 0)\n",
    "    var[i,:] = np.var(err, axis = 0)\n",
    "\n",
    "\n",
    "plt.subplot(1,1,1)\n",
    "plt.scatter(error[:,0], error[:,1], color = 'red')\n",
    "plt.scatter(np.mean(error[:,0]), np.mean(error[:,1]), marker = 'x', color = 'blue')\n",
    "plt.scatter(0.0, 0.0, marker = 'x', color = 'green')\n",
    "plt.xlim(standard_plot_size[0], standard_plot_size[1])\n",
    "plt.ylim(standard_plot_size[0], standard_plot_size[1])\n",
    "\n",
    "print(\"Mean Error, x = %.6f\" % np.mean(error[:,0]),\" y = %.6f\" % np.mean(error[:,1])  )\n",
    "print(\"Mean Var Error, x = %.6f\" % np.mean(var[:,0]),\" y = %.6f\" % np.mean(var[:,1])  )\n",
    "\n",
    "mean_error_dt_scaled_3 = np.mean(error[:,0])\n",
    "mean_var_error_dt_scaled_3 =np.mean(var[:,0])"
   ]
  },
  {
   "attachments": {},
   "cell_type": "markdown",
   "id": "a8a94e8e",
   "metadata": {},
   "source": [
    "### Omit (some) maximum_seating variable"
   ]
  },
  {
   "cell_type": "code",
   "execution_count": 49,
   "id": "d75540f9",
   "metadata": {},
   "outputs": [
    {
     "name": "stdout",
     "output_type": "stream",
     "text": [
      "maximum_seating_12 seats / maximum_seating_3 seats\n",
      "maximum_seating_9 seats\n"
     ]
    }
   ],
   "source": [
    "# check col indexes\n",
    "print(col_names3[73] , \"/\", col_names3[76])\n",
    "print(col_names3[82])"
   ]
  },
  {
   "cell_type": "code",
   "execution_count": 50,
   "id": "7ff14189",
   "metadata": {},
   "outputs": [],
   "source": [
    "# omit columns\n",
    "col_names4 = copy.deepcopy(col_names3)\n",
    "start_idx, end_idx = 73,76\n",
    "\n",
    "x_test_scaled4 = omit_var(start_idx, end_idx, x_test_scaled3)\n",
    "x_train_scaled4 = omit_var(start_idx, end_idx, x_train_scaled3)\n",
    "x_val_scaled4 = omit_var(start_idx, end_idx, x_val_scaled3)\n",
    "\n",
    "del col_names4[start_idx : end_idx+1]"
   ]
  },
  {
   "cell_type": "code",
   "execution_count": 51,
   "id": "8d08b3f4",
   "metadata": {},
   "outputs": [],
   "source": [
    "# omit columns\n",
    "start_idx, end_idx = 82,82\n",
    "\n",
    "x_test_scaled4 = omit_var(start_idx, end_idx, x_test_scaled4)\n",
    "x_train_scaled4 = omit_var(start_idx, end_idx, x_train_scaled4)\n",
    "x_val_scaled4 = omit_var(start_idx, end_idx, x_val_scaled4)\n",
    "\n",
    "del col_names4[start_idx]"
   ]
  },
  {
   "cell_type": "code",
   "execution_count": 52,
   "id": "9b87127a",
   "metadata": {},
   "outputs": [
    {
     "data": {
      "text/plain": [
       "(317342, 136)"
      ]
     },
     "execution_count": 52,
     "metadata": {},
     "output_type": "execute_result"
    }
   ],
   "source": [
    "x_val_scaled4.shape"
   ]
  },
  {
   "cell_type": "markdown",
   "id": "538064c3",
   "metadata": {},
   "source": [
    "##### Run DT Regression"
   ]
  },
  {
   "cell_type": "code",
   "execution_count": 53,
   "id": "9bbc8936",
   "metadata": {},
   "outputs": [
    {
     "data": {
      "text/plain": [
       "DecisionTreeRegressor(random_state=2023)"
      ]
     },
     "execution_count": 53,
     "metadata": {},
     "output_type": "execute_result"
    }
   ],
   "source": [
    "dt_scaled_4 = tree.DecisionTreeRegressor(random_state = random_state)\n",
    "dt_scaled_4.fit(x_train_scaled4, y_train)"
   ]
  },
  {
   "cell_type": "code",
   "execution_count": 54,
   "id": "6b61a767",
   "metadata": {},
   "outputs": [
    {
     "name": "stdout",
     "output_type": "stream",
     "text": [
      "RMSE: 6804.254879\n",
      "R^2: 0.811711\n",
      "MAPE: 0.113347\n"
     ]
    }
   ],
   "source": [
    "y_pred_dt_scaled_4 = dt_scaled_4.predict(x_val_scaled4)\n",
    "\n",
    "print(\"RMSE: %.6f\" % np.sqrt(metrics.mean_squared_error(y_val, y_pred_dt_scaled_4)))\n",
    "print(\"R^2: %.6f\" % metrics.r2_score(y_val, y_pred_dt_scaled_4))\n",
    "print(\"MAPE: %.6f\" % mape(y_val, y_pred_dt_scaled_4))"
   ]
  },
  {
   "cell_type": "code",
   "execution_count": 55,
   "id": "d96b9552",
   "metadata": {},
   "outputs": [
    {
     "name": "stdout",
     "output_type": "stream",
     "text": [
      "Mean Error, x = -210.877209  y = -210.877209\n",
      "Mean Var Error, x = 22038417.658904  y = 22038417.658904\n"
     ]
    },
    {
     "data": {
      "image/png": "[encoded data removed]",
      "text/plain": [
       "<Figure size 432x288 with 1 Axes>"
      ]
     },
     "metadata": {},
     "output_type": "display_data"
    }
   ],
   "source": [
    "# Create Bias-Variance graph for dt_notscaled\n",
    "\n",
    "error = np.zeros((num_test, 2))\n",
    "var = np.zeros((num_test, 2))\n",
    "for i in range(num_test):\n",
    "    err = y_val[select_index[i]] - y_pred_dt_scaled_4[select_index[i]]\n",
    "    error[i,:] = np.mean(err, axis = 0)\n",
    "    var[i,:] = np.var(err, axis = 0)\n",
    "\n",
    "\n",
    "plt.subplot(1,1,1)\n",
    "plt.scatter(error[:,0], error[:,1], color = 'red')\n",
    "plt.scatter(np.mean(error[:,0]), np.mean(error[:,1]), marker = 'x', color = 'blue')\n",
    "plt.scatter(0.0, 0.0, marker = 'x', color = 'green')\n",
    "plt.xlim(standard_plot_size[0], standard_plot_size[1])\n",
    "plt.ylim(standard_plot_size[0], standard_plot_size[1])\n",
    "\n",
    "print(\"Mean Error, x = %.6f\" % np.mean(error[:,0]),\" y = %.6f\" % np.mean(error[:,1])  )\n",
    "print(\"Mean Var Error, x = %.6f\" % np.mean(var[:,0]),\" y = %.6f\" % np.mean(var[:,1])  )\n",
    "\n",
    "mean_error_dt_scaled_4 = np.mean(error[:,0])\n",
    "mean_var_error_dt_scaled_4 =np.mean(var[:,0])"
   ]
  },
  {
   "attachments": {},
   "cell_type": "markdown",
   "id": "482253b7",
   "metadata": {},
   "source": [
    "### Omit engine_type variable"
   ]
  },
  {
   "cell_type": "code",
   "execution_count": 56,
   "id": "2e5324da",
   "metadata": {},
   "outputs": [
    {
     "name": "stdout",
     "output_type": "stream",
     "text": [
      "engine_type_I / engine_type_W\n"
     ]
    }
   ],
   "source": [
    "# check col indexes\n",
    "print(col_names4[8], \"/\", col_names4[11])\n"
   ]
  },
  {
   "cell_type": "code",
   "execution_count": 57,
   "id": "204b352c",
   "metadata": {},
   "outputs": [],
   "source": [
    "# omit columns\n",
    "col_names5 = copy.deepcopy(col_names4)\n",
    "start_idx, end_idx = 8, 11\n",
    "\n",
    "x_test_scaled5 = omit_var(start_idx, end_idx, x_test_scaled4)\n",
    "x_train_scaled5 = omit_var(start_idx, end_idx, x_train_scaled4)\n",
    "x_val_scaled5 = omit_var(start_idx, end_idx, x_val_scaled4)\n",
    "\n",
    "del col_names5[start_idx : end_idx+1]"
   ]
  },
  {
   "cell_type": "code",
   "execution_count": 58,
   "id": "77d174c6",
   "metadata": {},
   "outputs": [
    {
     "data": {
      "text/plain": [
       "(317342, 132)"
      ]
     },
     "execution_count": 58,
     "metadata": {},
     "output_type": "execute_result"
    }
   ],
   "source": [
    "x_val_scaled5.shape"
   ]
  },
  {
   "cell_type": "markdown",
   "id": "0a52e892",
   "metadata": {},
   "source": [
    "##### Run DT Regression"
   ]
  },
  {
   "cell_type": "code",
   "execution_count": 59,
   "id": "3191b191",
   "metadata": {},
   "outputs": [
    {
     "data": {
      "text/plain": [
       "DecisionTreeRegressor(random_state=2023)"
      ]
     },
     "execution_count": 59,
     "metadata": {},
     "output_type": "execute_result"
    }
   ],
   "source": [
    "dt_scaled_5 = tree.DecisionTreeRegressor(random_state = random_state)\n",
    "dt_scaled_5.fit(x_train_scaled5, y_train)"
   ]
  },
  {
   "cell_type": "code",
   "execution_count": 60,
   "id": "54a89e96",
   "metadata": {},
   "outputs": [
    {
     "name": "stdout",
     "output_type": "stream",
     "text": [
      "RMSE: 6812.726385\n",
      "R^2: 0.811242\n",
      "MAPE: 0.113493\n"
     ]
    }
   ],
   "source": [
    "y_pred_dt_scaled_5 = dt_scaled_5.predict(x_val_scaled5)\n",
    "\n",
    "print(\"RMSE: %.6f\" % np.sqrt(metrics.mean_squared_error(y_val, y_pred_dt_scaled_5)))\n",
    "print(\"R^2: %.6f\" % metrics.r2_score(y_val, y_pred_dt_scaled_5))\n",
    "print(\"MAPE: %.6f\" % mape(y_val, y_pred_dt_scaled_5))"
   ]
  },
  {
   "cell_type": "code",
   "execution_count": 61,
   "id": "0a425d9a",
   "metadata": {},
   "outputs": [
    {
     "name": "stdout",
     "output_type": "stream",
     "text": [
      "Mean Error, x = -168.517042  y = -168.517042\n",
      "Mean Var Error, x = 18502462.139881  y = 18502462.139881\n"
     ]
    },
    {
     "data": {
      "image/png": "[encoded data removed]",
      "text/plain": [
       "<Figure size 432x288 with 1 Axes>"
      ]
     },
     "metadata": {},
     "output_type": "display_data"
    }
   ],
   "source": [
    "# Create Bias-Variance graph for dt_notscaled\n",
    "\n",
    "error = np.zeros((num_test, 2))\n",
    "var = np.zeros((num_test, 2))\n",
    "for i in range(num_test):\n",
    "    err = y_val[select_index[i]] - y_pred_dt_scaled_5[select_index[i]]\n",
    "    error[i,:] = np.mean(err, axis = 0)\n",
    "    var[i,:] = np.var(err, axis = 0)\n",
    "\n",
    "\n",
    "plt.subplot(1,1,1)\n",
    "plt.scatter(error[:,0], error[:,1], color = 'red')\n",
    "plt.scatter(np.mean(error[:,0]), np.mean(error[:,1]), marker = 'x', color = 'blue')\n",
    "plt.scatter(0.0, 0.0, marker = 'x', color = 'green')\n",
    "plt.xlim(standard_plot_size[0], standard_plot_size[1])\n",
    "plt.ylim(standard_plot_size[0], standard_plot_size[1])\n",
    "\n",
    "print(\"Mean Error, x = %.6f\" % np.mean(error[:,0]),\" y = %.6f\" % np.mean(error[:,1])  )\n",
    "print(\"Mean Var Error, x = %.6f\" % np.mean(var[:,0]),\" y = %.6f\" % np.mean(var[:,1])  )\n",
    "\n",
    "mean_error_dt_scaled_5 = np.mean(error[:,0])\n",
    "mean_var_error_dt_scaled_5 =np.mean(var[:,0])"
   ]
  },
  {
   "attachments": {},
   "cell_type": "markdown",
   "id": "1bfde207",
   "metadata": {},
   "source": [
    "### Omit body_type variable"
   ]
  },
  {
   "cell_type": "code",
   "execution_count": 69,
   "id": "e22d829c",
   "metadata": {},
   "outputs": [
    {
     "name": "stdout",
     "output_type": "stream",
     "text": [
      "body_type_Coupe / body_type_Wagon\n"
     ]
    }
   ],
   "source": [
    "# check col indexes\n",
    "print(col_names5[0] , \"/\", col_names5[7])"
   ]
  },
  {
   "cell_type": "code",
   "execution_count": 71,
   "id": "f1a620f8",
   "metadata": {},
   "outputs": [],
   "source": [
    "# omit columns\n",
    "col_names6 = copy.deepcopy(col_names5)\n",
    "start_idx, end_idx = 0,7\n",
    "x_test_scaled6 = omit_var(start_idx, end_idx, x_test_scaled5)\n",
    "x_train_scaled6 = omit_var(start_idx, end_idx, x_train_scaled5)\n",
    "x_val_scaled6 = omit_var(start_idx, end_idx, x_val_scaled5)\n",
    "\n",
    "del col_names6[start_idx : end_idx+1]"
   ]
  },
  {
   "cell_type": "code",
   "execution_count": 72,
   "id": "ffaffc4e",
   "metadata": {},
   "outputs": [
    {
     "data": {
      "text/plain": [
       "(952025, 124)"
      ]
     },
     "execution_count": 72,
     "metadata": {},
     "output_type": "execute_result"
    }
   ],
   "source": [
    "x_train_scaled6.shape"
   ]
  },
  {
   "cell_type": "markdown",
   "id": "057f2669",
   "metadata": {},
   "source": [
    "##### Run DT Regression"
   ]
  },
  {
   "cell_type": "code",
   "execution_count": 73,
   "id": "23eb32b2",
   "metadata": {},
   "outputs": [
    {
     "data": {
      "text/plain": [
       "DecisionTreeRegressor(random_state=2023)"
      ]
     },
     "execution_count": 73,
     "metadata": {},
     "output_type": "execute_result"
    }
   ],
   "source": [
    "dt_scaled_6 = tree.DecisionTreeRegressor(random_state = random_state)\n",
    "dt_scaled_6.fit(x_train_scaled6, y_train)"
   ]
  },
  {
   "cell_type": "code",
   "execution_count": 74,
   "id": "7fe11ec7",
   "metadata": {},
   "outputs": [
    {
     "name": "stdout",
     "output_type": "stream",
     "text": [
      "RMSE: 5719.360552\n",
      "R^2: 0.866967\n",
      "MAPE: 0.116472\n"
     ]
    }
   ],
   "source": [
    "y_pred_dt_scaled_6 = dt_scaled_6.predict(x_val_scaled6)\n",
    "\n",
    "print(\"RMSE: %.6f\" % np.sqrt(metrics.mean_squared_error(y_val, y_pred_dt_scaled_6)))\n",
    "print(\"R^2: %.6f\" % metrics.r2_score(y_val, y_pred_dt_scaled_6))\n",
    "print(\"MAPE: %.6f\" % mape(y_val, y_pred_dt_scaled_6))"
   ]
  },
  {
   "cell_type": "code",
   "execution_count": 75,
   "id": "fe56f160",
   "metadata": {},
   "outputs": [
    {
     "name": "stdout",
     "output_type": "stream",
     "text": [
      "Mean Error, x = -200.987876  y = -200.987876\n",
      "Mean Var Error, x = 18927930.984058  y = 18927930.984058\n"
     ]
    },
    {
     "data": {
      "image/png": "[encoded data removed]",
      "text/plain": [
       "<Figure size 432x288 with 1 Axes>"
      ]
     },
     "metadata": {},
     "output_type": "display_data"
    }
   ],
   "source": [
    "# Create Bias-Variance graph \n",
    "\n",
    "error = np.zeros((num_test, 2))\n",
    "var = np.zeros((num_test, 2))\n",
    "for i in range(num_test):\n",
    "    err = y_val[select_index[i]] - y_pred_dt_scaled_6[select_index[i]]\n",
    "    error[i,:] = np.mean(err, axis = 0)\n",
    "    var[i,:] = np.var(err, axis = 0)\n",
    "\n",
    "\n",
    "plt.subplot(1,1,1)\n",
    "plt.scatter(error[:,0], error[:,1], color = 'red')\n",
    "plt.scatter(np.mean(error[:,0]), np.mean(error[:,1]), marker = 'x', color = 'blue')\n",
    "plt.scatter(0.0, 0.0, marker = 'x', color = 'green')\n",
    "plt.xlim(standard_plot_size[0], standard_plot_size[1])\n",
    "plt.ylim(standard_plot_size[0], standard_plot_size[1])\n",
    "\n",
    "print(\"Mean Error, x = %.6f\" % np.mean(error[:,0]),\" y = %.6f\" % np.mean(error[:,1])  )\n",
    "print(\"Mean Var Error, x = %.6f\" % np.mean(var[:,0]),\" y = %.6f\" % np.mean(var[:,1])  )\n",
    "\n",
    "mean_error_dt_scaled_6 = np.mean(error[:,0])\n",
    "mean_var_error_dt_scaled_6 =np.mean(var[:,0])"
   ]
  },
  {
   "attachments": {},
   "cell_type": "markdown",
   "id": "bf92ae1f",
   "metadata": {},
   "source": [
    "### Omit listing_colour variable"
   ]
  },
  {
   "cell_type": "code",
   "execution_count": 89,
   "id": "a250dfe5",
   "metadata": {},
   "outputs": [
    {
     "name": "stdout",
     "output_type": "stream",
     "text": [
      "listing_color_BLUE / listing_color_YELLOW\n"
     ]
    }
   ],
   "source": [
    "# check col indexes\n",
    "print(col_names6[1] , \"/\", col_names6[14])"
   ]
  },
  {
   "cell_type": "code",
   "execution_count": 90,
   "id": "ae6cb9cf",
   "metadata": {},
   "outputs": [],
   "source": [
    "# omit columns\n",
    "col_names7 = copy.deepcopy(col_names6)\n",
    "start_idx, end_idx = 1,14\n",
    "x_test_scaled7 = omit_var(start_idx, end_idx, x_test_scaled6)\n",
    "x_train_scaled7 = omit_var(start_idx, end_idx, x_train_scaled6)\n",
    "x_val_scaled7 = omit_var(start_idx, end_idx, x_val_scaled6)\n",
    "\n",
    "del col_names7[start_idx : end_idx+1]"
   ]
  },
  {
   "cell_type": "code",
   "execution_count": 91,
   "id": "78fda95e",
   "metadata": {},
   "outputs": [
    {
     "data": {
      "text/plain": [
       "(952025, 110)"
      ]
     },
     "execution_count": 91,
     "metadata": {},
     "output_type": "execute_result"
    }
   ],
   "source": [
    "x_train_scaled7.shape"
   ]
  },
  {
   "cell_type": "markdown",
   "id": "0c3f8b40",
   "metadata": {},
   "source": [
    "##### Run DT Regression"
   ]
  },
  {
   "cell_type": "code",
   "execution_count": 92,
   "id": "2ab6488b",
   "metadata": {},
   "outputs": [
    {
     "data": {
      "text/plain": [
       "DecisionTreeRegressor(random_state=2023)"
      ]
     },
     "execution_count": 92,
     "metadata": {},
     "output_type": "execute_result"
    }
   ],
   "source": [
    "dt_scaled_7 = tree.DecisionTreeRegressor(random_state = random_state)\n",
    "dt_scaled_7.fit(x_train_scaled7, y_train)"
   ]
  },
  {
   "cell_type": "code",
   "execution_count": 93,
   "id": "9c22d250",
   "metadata": {},
   "outputs": [
    {
     "name": "stdout",
     "output_type": "stream",
     "text": [
      "RMSE: 5712.435964\n",
      "R^2: 0.867289\n",
      "MAPE: 0.115389\n"
     ]
    }
   ],
   "source": [
    "y_pred_dt_scaled_7 = dt_scaled_7.predict(x_val_scaled7)\n",
    "\n",
    "print(\"RMSE: %.6f\" % np.sqrt(metrics.mean_squared_error(y_val, y_pred_dt_scaled_7)))\n",
    "print(\"R^2: %.6f\" % metrics.r2_score(y_val, y_pred_dt_scaled_7))\n",
    "print(\"MAPE: %.6f\" % mape(y_val, y_pred_dt_scaled_7))"
   ]
  },
  {
   "cell_type": "code",
   "execution_count": 94,
   "id": "34fd3e0b",
   "metadata": {},
   "outputs": [
    {
     "name": "stdout",
     "output_type": "stream",
     "text": [
      "Mean Error, x = -224.555696  y = -224.555696\n",
      "Mean Var Error, x = 20180774.655224  y = 20180774.655224\n"
     ]
    },
    {
     "data": {
      "image/png": "[encoded data removed]",
      "text/plain": [
       "<Figure size 432x288 with 1 Axes>"
      ]
     },
     "metadata": {},
     "output_type": "display_data"
    }
   ],
   "source": [
    "# Create Bias-Variance graph \n",
    "\n",
    "error = np.zeros((num_test, 2))\n",
    "var = np.zeros((num_test, 2))\n",
    "for i in range(num_test):\n",
    "    err = y_val[select_index[i]] - y_pred_dt_scaled_7[select_index[i]]\n",
    "    error[i,:] = np.mean(err, axis = 0)\n",
    "    var[i,:] = np.var(err, axis = 0)\n",
    "\n",
    "\n",
    "plt.subplot(1,1,1)\n",
    "plt.scatter(error[:,0], error[:,1], color = 'red')\n",
    "plt.scatter(np.mean(error[:,0]), np.mean(error[:,1]), marker = 'x', color = 'blue')\n",
    "plt.scatter(0.0, 0.0, marker = 'x', color = 'green')\n",
    "plt.xlim(standard_plot_size[0], standard_plot_size[1])\n",
    "plt.ylim(standard_plot_size[0], standard_plot_size[1])\n",
    "\n",
    "print(\"Mean Error, x = %.6f\" % np.mean(error[:,0]),\" y = %.6f\" % np.mean(error[:,1])  )\n",
    "print(\"Mean Var Error, x = %.6f\" % np.mean(var[:,0]),\" y = %.6f\" % np.mean(var[:,1])  )\n",
    "\n",
    "mean_error_dt_scaled_7 = np.mean(error[:,0])\n",
    "mean_var_error_dt_scaled_7 =np.mean(var[:,0])"
   ]
  },
  {
   "attachments": {},
   "cell_type": "markdown",
   "id": "21065c1f",
   "metadata": {},
   "source": [
    "### Omit state variable"
   ]
  },
  {
   "cell_type": "code",
   "execution_count": 111,
   "id": "aec7c59c",
   "metadata": {},
   "outputs": [
    {
     "name": "stdout",
     "output_type": "stream",
     "text": [
      "state_Alaska / state_Wyoming\n"
     ]
    }
   ],
   "source": [
    "# check col indexes\n",
    "print(col_names7[56] , \"/\", col_names7[105])"
   ]
  },
  {
   "cell_type": "code",
   "execution_count": 112,
   "id": "41928ca4",
   "metadata": {},
   "outputs": [],
   "source": [
    "# omit columns\n",
    "col_names8 = copy.deepcopy(col_names7)\n",
    "start_idx, end_idx = 56,105\n",
    "x_test_scaled8 = omit_var(start_idx, end_idx, x_test_scaled7)\n",
    "x_train_scaled8 = omit_var(start_idx, end_idx, x_train_scaled7)\n",
    "x_val_scaled8 = omit_var(start_idx, end_idx, x_val_scaled7)\n",
    "\n",
    "del col_names8[start_idx : end_idx+1]"
   ]
  },
  {
   "cell_type": "code",
   "execution_count": 113,
   "id": "ae09d77a",
   "metadata": {},
   "outputs": [
    {
     "data": {
      "text/plain": [
       "(317342, 110)"
      ]
     },
     "execution_count": 113,
     "metadata": {},
     "output_type": "execute_result"
    }
   ],
   "source": [
    "x_val_scaled7.shape"
   ]
  },
  {
   "cell_type": "markdown",
   "id": "0ee7573c",
   "metadata": {},
   "source": [
    "##### Run DT Regression"
   ]
  },
  {
   "cell_type": "code",
   "execution_count": 114,
   "id": "37cc32da",
   "metadata": {},
   "outputs": [
    {
     "data": {
      "text/plain": [
       "DecisionTreeRegressor(random_state=2023)"
      ]
     },
     "execution_count": 114,
     "metadata": {},
     "output_type": "execute_result"
    }
   ],
   "source": [
    "dt_scaled_8 = tree.DecisionTreeRegressor(random_state = random_state)\n",
    "dt_scaled_8.fit(x_train_scaled8, y_train)"
   ]
  },
  {
   "cell_type": "code",
   "execution_count": 115,
   "id": "e8535121",
   "metadata": {},
   "outputs": [
    {
     "name": "stdout",
     "output_type": "stream",
     "text": [
      "RMSE: 5912.048515\n",
      "R^2: 0.857852\n",
      "MAPE: 0.122597\n"
     ]
    }
   ],
   "source": [
    "y_pred_dt_scaled_8 = dt_scaled_8.predict(x_val_scaled8)\n",
    "\n",
    "print(\"RMSE: %.6f\" % np.sqrt(metrics.mean_squared_error(y_val, y_pred_dt_scaled_8)))\n",
    "print(\"R^2: %.6f\" % metrics.r2_score(y_val, y_pred_dt_scaled_8))\n",
    "print(\"MAPE: %.6f\" % mape(y_val, y_pred_dt_scaled_8))"
   ]
  },
  {
   "cell_type": "code",
   "execution_count": 116,
   "id": "8687cdee",
   "metadata": {},
   "outputs": [
    {
     "name": "stdout",
     "output_type": "stream",
     "text": [
      "Mean Error, x = -353.458163  y = -353.458163\n",
      "Mean Var Error, x = 24890511.806945  y = 24890511.806945\n"
     ]
    },
    {
     "data": {
      "image/png": "[encoded data removed]",
      "text/plain": [
       "<Figure size 432x288 with 1 Axes>"
      ]
     },
     "metadata": {},
     "output_type": "display_data"
    }
   ],
   "source": [
    "# Create Bias-Variance graph \n",
    "\n",
    "error = np.zeros((num_test, 2))\n",
    "var = np.zeros((num_test, 2))\n",
    "for i in range(num_test):\n",
    "    err = y_val[select_index[i]] - y_pred_dt_scaled_8[select_index[i]]\n",
    "    error[i,:] = np.mean(err, axis = 0)\n",
    "    var[i,:] = np.var(err, axis = 0)\n",
    "\n",
    "\n",
    "plt.subplot(1,1,1)\n",
    "plt.scatter(error[:,0], error[:,1], color = 'red')\n",
    "plt.scatter(np.mean(error[:,0]), np.mean(error[:,1]), marker = 'x', color = 'blue')\n",
    "plt.scatter(0.0, 0.0, marker = 'x', color = 'green')\n",
    "plt.xlim(standard_plot_size[0], standard_plot_size[1])\n",
    "plt.ylim(standard_plot_size[0], standard_plot_size[1])\n",
    "\n",
    "print(\"Mean Error, x = %.6f\" % np.mean(error[:,0]),\" y = %.6f\" % np.mean(error[:,1])  )\n",
    "print(\"Mean Var Error, x = %.6f\" % np.mean(var[:,0]),\" y = %.6f\" % np.mean(var[:,1])  )\n",
    "\n",
    "mean_error_dt_scaled_8 = np.mean(error[:,0])\n",
    "mean_var_error_dt_scaled_8 =np.mean(var[:,0])"
   ]
  },
  {
   "attachments": {},
   "cell_type": "markdown",
   "id": "7beb3160",
   "metadata": {},
   "source": [
    "NOTE: Removal of state leads to increase in MAPE although RMSE drops."
   ]
  },
  {
   "attachments": {},
   "cell_type": "markdown",
   "id": "79bc18e7",
   "metadata": {},
   "source": [
    "## Plot RMSE, MPSE, R^2, Mean Error & Mean Var Error (from Bias-Variance graphs) changes as variables are dropped"
   ]
  },
  {
   "cell_type": "code",
   "execution_count": 117,
   "id": "deef6ffb",
   "metadata": {},
   "outputs": [],
   "source": [
    "models = ['dt_scaled','dt_scaled_2','dt_scaled_3','dt_scaled_4', 'dt_scaled_5', 'dt_scaled_6', 'dt_scaled_7','dt_scaled_8']\n",
    "\n",
    "RMSE = [np.sqrt(metrics.mean_squared_error(y_val, y_pred_dt_scaled)), np.sqrt(metrics.mean_squared_error(y_val, y_pred_dt_scaled_2)), np.sqrt(metrics.mean_squared_error(y_val, y_pred_dt_scaled_3)),\n",
    "        np.sqrt(metrics.mean_squared_error(y_val, y_pred_dt_scaled_4)), np.sqrt(metrics.mean_squared_error(y_val, y_pred_dt_scaled_5)), np.sqrt(metrics.mean_squared_error(y_val, y_pred_dt_scaled_6)), \n",
    "        np.sqrt(metrics.mean_squared_error(y_val, y_pred_dt_scaled_7)),np.sqrt(metrics.mean_squared_error(y_val, y_pred_dt_scaled_8))]\n",
    "\n",
    "R2 = [metrics.r2_score(y_val, y_pred_dt_scaled), metrics.r2_score(y_val, y_pred_dt_scaled_2), metrics.r2_score(y_val, y_pred_dt_scaled_3), metrics.r2_score(y_val, y_pred_dt_scaled_4),\n",
    "      metrics.r2_score(y_val, y_pred_dt_scaled_5), metrics.r2_score(y_val, y_pred_dt_scaled_6),  metrics.r2_score(y_val, y_pred_dt_scaled_7), metrics.r2_score(y_val, y_pred_dt_scaled_8)]\n",
    "\n",
    "MAPE = [mape(y_val, y_pred_dt_scaled), mape(y_val, y_pred_dt_scaled_2), mape(y_val, y_pred_dt_scaled_3), mape(y_val, y_pred_dt_scaled_4), mape(y_val, y_pred_dt_scaled_5),\n",
    "        mape(y_val, y_pred_dt_scaled_6),mape(y_val, y_pred_dt_scaled_7),mape(y_val, y_pred_dt_scaled_8)]\n",
    "\n",
    "mean_error_BV = [abs(mean_error_dt_scaled), abs(mean_error_dt_scaled_2), abs(mean_error_dt_scaled_3), abs(mean_error_dt_scaled_4), abs(mean_error_dt_scaled_5),\n",
    "                 abs(mean_error_dt_scaled_6),abs(mean_error_dt_scaled_7),abs(mean_error_dt_scaled_8)]\n",
    "\n",
    "mean_var_error_BV = [mean_var_error_dt_scaled, mean_var_error_dt_scaled_2, mean_var_error_dt_scaled_3, mean_var_error_dt_scaled_4, mean_var_error_dt_scaled_5, mean_var_error_dt_scaled_6,\n",
    "                     mean_var_error_dt_scaled_7,mean_var_error_dt_scaled_8]\n"
   ]
  },
  {
   "cell_type": "code",
   "execution_count": 118,
   "id": "2884c208",
   "metadata": {},
   "outputs": [
    {
     "data": {
      "image/png": "[encoded data removed]",
      "text/plain": [
       "<Figure size 864x576 with 1 Axes>"
      ]
     },
     "metadata": {},
     "output_type": "display_data"
    }
   ],
   "source": [
    "plt.figure(figsize = (12, 8))\n",
    "plt.plot(models, RMSE, 'bo-', label = 'RMSE')\n",
    "plt.xlabel('Models')\n",
    "plt.ylabel('Metric Values')\n",
    "plt.title('RMSE change over models')\n",
    "plt.legend()\n",
    "plt.show()"
   ]
  },
  {
   "cell_type": "code",
   "execution_count": 119,
   "id": "740413bc",
   "metadata": {},
   "outputs": [
    {
     "data": {
      "image/png": "[encoded data removed]",
      "text/plain": [
       "<Figure size 864x576 with 1 Axes>"
      ]
     },
     "metadata": {},
     "output_type": "display_data"
    }
   ],
   "source": [
    "plt.figure(figsize = (12, 8))\n",
    "plt.plot(models, R2, 'ro-', label = 'R^2')\n",
    "plt.plot(models, MAPE, 'go-', label = 'MAPE')\n",
    "plt.xlabel('Models')\n",
    "plt.ylabel('Metric Values')\n",
    "plt.title('R^2 and MAPE changes over models')\n",
    "plt.legend()\n",
    "plt.show()"
   ]
  },
  {
   "cell_type": "code",
   "execution_count": 121,
   "id": "a9d59235",
   "metadata": {},
   "outputs": [
    {
     "data": {
      "image/png": "[encoded data removed]",
      "text/plain": [
       "<Figure size 864x576 with 1 Axes>"
      ]
     },
     "metadata": {},
     "output_type": "display_data"
    }
   ],
   "source": [
    "plt.figure(figsize = (12, 8))\n",
    "plt.plot(models, mean_error_BV, 'co-', label = 'Abs Mean Error')\n",
    "plt.xlabel('Models')\n",
    "plt.ylabel('Metric Values')\n",
    "plt.title('Abs Mean Error (from Bias-Variance) change over models')\n",
    "plt.legend()\n",
    "plt.show()"
   ]
  },
  {
   "cell_type": "code",
   "execution_count": 122,
   "id": "d06ea40f",
   "metadata": {},
   "outputs": [
    {
     "data": {
      "image/png": "[encoded data removed]",
      "text/plain": [
       "<Figure size 864x576 with 1 Axes>"
      ]
     },
     "metadata": {},
     "output_type": "display_data"
    }
   ],
   "source": [
    "plt.figure(figsize = (12, 8))\n",
    "plt.plot(models, mean_var_error_BV, 'mo-', label = 'Mean Var Error')\n",
    "plt.xlabel('Models')\n",
    "plt.ylabel('Metric Values')\n",
    "plt.title('Mean Var Error (from Bias-Variance) change over models')\n",
    "plt.legend()\n",
    "plt.show()"
   ]
  },
  {
   "attachments": {},
   "cell_type": "markdown",
   "id": "f1cae7a4",
   "metadata": {},
   "source": [
    "## Run dt_scaled_7 on Test data"
   ]
  },
  {
   "cell_type": "code",
   "execution_count": 124,
   "id": "bcb3475b",
   "metadata": {},
   "outputs": [
    {
     "name": "stdout",
     "output_type": "stream",
     "text": [
      "RMSE: 7071.207627\n",
      "R^2: 0.790531\n",
      "MAPE: 0.120827\n"
     ]
    }
   ],
   "source": [
    "y_pred_dt_scaled_7_TEST = dt_scaled_7.predict(x_test_scaled7)\n",
    "\n",
    "print(\"RMSE: %.6f\" % np.sqrt(metrics.mean_squared_error(y_test, y_pred_dt_scaled_7_TEST)))\n",
    "print(\"R^2: %.6f\" % metrics.r2_score(y_test, y_pred_dt_scaled_7_TEST))\n",
    "print(\"MAPE: %.6f\" % mape(y_test, y_pred_dt_scaled_7_TEST))"
   ]
  },
  {
   "cell_type": "code",
   "execution_count": 126,
   "id": "250e4743",
   "metadata": {},
   "outputs": [
    {
     "name": "stdout",
     "output_type": "stream",
     "text": [
      "Mean Error, x = -97.176869  y = -97.176869\n",
      "Mean Var Error, x = 23708908.759777  y = 23708908.759777\n"
     ]
    },
    {
     "data": {
      "image/png": "[encoded data removed]",
      "text/plain": [
       "<Figure size 432x288 with 1 Axes>"
      ]
     },
     "metadata": {},
     "output_type": "display_data"
    }
   ],
   "source": [
    "# Create Bias-Variance graph for dt_notscaled\n",
    "\n",
    "error = np.zeros((num_test, 2))\n",
    "var = np.zeros((num_test, 2))\n",
    "for i in range(num_test):\n",
    "    err = y_test[select_index[i]] - y_pred_dt_scaled_7_TEST[select_index[i]]\n",
    "    error[i,:] = np.mean(err, axis = 0)\n",
    "    var[i,:] = np.var(err, axis = 0)\n",
    "\n",
    "\n",
    "plt.subplot(1,1,1)\n",
    "plt.scatter(error[:,0], error[:,1], color = 'red')\n",
    "plt.scatter(np.mean(error[:,0]), np.mean(error[:,1]), marker = 'x', color = 'blue')\n",
    "plt.scatter(0.0, 0.0, marker = 'x', color = 'green')\n",
    "plt.xlim(standard_plot_size[0], standard_plot_size[1])\n",
    "plt.ylim(standard_plot_size[0], standard_plot_size[1])\n",
    "\n",
    "print(\"Mean Error, x = %.6f\" % np.mean(error[:,0]),\" y = %.6f\" % np.mean(error[:,1])  )\n",
    "print(\"Mean Var Error, x = %.6f\" % np.mean(var[:,0]),\" y = %.6f\" % np.mean(var[:,1])  )\n",
    "\n",
    "mean_error_dt_scaledstd_7_TEST = np.mean(error[:,0])\n",
    "mean_var_error_dt_scaledstd_7_TEST =np.mean(var[:,0])"
   ]
  },
  {
   "cell_type": "code",
   "execution_count": 144,
   "id": "94b4a390",
   "metadata": {},
   "outputs": [
    {
     "name": "stdout",
     "output_type": "stream",
     "text": [
      "['is_new_True', 'make_name_Alfa Romeo', 'make_name_Aston Martin', 'make_name_Audi', 'make_name_BMW', 'make_name_Bentley', 'make_name_Buick', 'make_name_Cadillac', 'make_name_Chevrolet', 'make_name_Chrysler', 'make_name_Dodge', 'make_name_FIAT', 'make_name_Ford', 'make_name_GMC', 'make_name_Genesis', 'make_name_Honda', 'make_name_Hummer', 'make_name_Hyundai', 'make_name_INFINITI', 'make_name_Isuzu', 'make_name_Jaguar', 'make_name_Jeep', 'make_name_Kia', 'make_name_Land Rover', 'make_name_Lexus', 'make_name_Lincoln', 'make_name_MINI', 'make_name_Maserati', 'make_name_Mazda', 'make_name_Mercedes-Benz', 'make_name_Mercury', 'make_name_Mitsubishi', 'make_name_Nissan', 'make_name_Oldsmobile', 'make_name_Plymouth', 'make_name_Pontiac', 'make_name_Porsche', 'make_name_RAM', 'make_name_Rolls-Royce', 'make_name_Saab', 'make_name_Saturn', 'make_name_Scion', 'make_name_Subaru', 'make_name_Suzuki', 'make_name_Toyota', 'make_name_Volkswagen', 'make_name_Volvo', 'maximum_seating_4 seats', 'maximum_seating_5 seats', 'maximum_seating_6 seats', 'maximum_seating_7 seats', 'maximum_seating_8 seats', 'maximum_seating_9 seats', 'wheel_system_4X2', 'wheel_system_AWD', 'wheel_system_FWD', 'state_Alaska', 'state_Arizona', 'state_Arkansas', 'state_California', 'state_Colorado', 'state_Connecticut', 'state_Delaware', 'state_Florida', 'state_Georgia', 'state_Hawaii', 'state_Idaho', 'state_Illinois', 'state_Indiana', 'state_Iowa', 'state_Kansas', 'state_Kentucky', 'state_Louisiana', 'state_Maine', 'state_Maryland', 'state_Massachusetts', 'state_Michigan', 'state_Minnesota', 'state_Mississippi', 'state_Missouri', 'state_Montana', 'state_Nebraska', 'state_Nevada', 'state_New Hampshire', 'state_New Jersey', 'state_New Mexico', 'state_New York', 'state_North Carolina', 'state_North Dakota', 'state_Ohio', 'state_Oklahoma', 'state_Oregon', 'state_Pennsylvania', 'state_Puerto Rico', 'state_Rhode Island', 'state_South Carolina', 'state_South Dakota', 'state_Tennessee', 'state_Texas', 'state_Utah', 'state_Vermont', 'state_Virginia', 'state_Washington', 'state_West Virginia', 'state_Wisconsin', 'state_Wyoming', 'daysonmarket', 'horsepower', 'mileage', 'seller_rating']\n"
     ]
    }
   ],
   "source": [
    "print(col_names7)"
   ]
  },
  {
   "cell_type": "code",
   "execution_count": 129,
   "id": "1804e132",
   "metadata": {},
   "outputs": [
    {
     "name": "stdout",
     "output_type": "stream",
     "text": [
      "Final Variables: \n",
      "is_new_True,make_name (encoded), maximum_seating (4,5,6,7,8,9) (encoded), wheel_system (encooded),\n",
      "state (encoded), daysonmarket, horsepower, mileage, seller_rating\n"
     ]
    }
   ],
   "source": [
    "print(\"Final Variables: \")\n",
    "print(\"is_new_True,make_name (encoded), maximum_seating (4,5,6,7,8,9) (encoded), wheel_system (encooded),\")\n",
    "print(\"state (encoded), daysonmarket, horsepower, mileage, seller_rating\")\n"
   ]
  },
  {
   "attachments": {},
   "cell_type": "markdown",
   "id": "6121b6ce",
   "metadata": {},
   "source": [
    "### Run K-Fold"
   ]
  },
  {
   "cell_type": "code",
   "execution_count": 134,
   "id": "27d6c1c9",
   "metadata": {},
   "outputs": [],
   "source": [
    "# Copy model so code uses 1 object only \n",
    "kf_model = copy.deepcopy(dt_scaled_7)\n",
    "\n",
    "#Prep data\n",
    "kf  = KFold(n_splits = 10, shuffle = True, random_state = random_state)\n",
    "\n",
    "x_kf = copy.deepcopy(x)\n",
    "\n",
    "start_idx, end_idx = 88, 90\n",
    "x_kf = omit_var(start_idx, end_idx, x_kf)\n",
    "\n",
    "start_idx, end_idx = 12, 16\n",
    "x_kf = omit_var(start_idx, end_idx, x_kf)\n",
    "\n",
    "start_idx, end_idx = 73,76\n",
    "x_kf = omit_var(start_idx, end_idx, x_kf)\n",
    "\n",
    "start_idx, end_idx = 82, 82\n",
    "x_kf = omit_var(start_idx, end_idx, x_kf)\n",
    "\n",
    "start_idx, end_idx = 8, 11\n",
    "x_kf = omit_var(start_idx, end_idx, x_kf)"
   ]
  },
  {
   "cell_type": "code",
   "execution_count": 135,
   "id": "35661453",
   "metadata": {},
   "outputs": [
    {
     "name": "stdout",
     "output_type": "stream",
     "text": [
      "RUN K-FOLD, splits = 10, shuffle = True\n"
     ]
    }
   ],
   "source": [
    "#Run k-fold\n",
    "print('RUN K-FOLD, splits = 10, shuffle = True')\n",
    "\n",
    "final_scores_cross_val_R2 = cross_val_score(kf_model, x_kf, y, scoring='r2', cv=kf, n_jobs=1)\n"
   ]
  },
  {
   "cell_type": "code",
   "execution_count": 136,
   "id": "5e5b91e5",
   "metadata": {},
   "outputs": [
    {
     "name": "stdout",
     "output_type": "stream",
     "text": [
      "R^2:\n",
      "0.886880\n",
      "0.910560\n",
      "0.724774\n",
      "0.889525\n",
      "0.913433\n",
      "0.809844\n",
      "0.860962\n",
      "0.908217\n",
      "0.786710\n",
      "0.767847\n"
     ]
    }
   ],
   "source": [
    "print('R^2:')\n",
    "for i in final_scores_cross_val_R2:\n",
    "    print('%5f' % i)"
   ]
  },
  {
   "cell_type": "code",
   "execution_count": 137,
   "id": "4c4a4c4c",
   "metadata": {},
   "outputs": [],
   "source": [
    "def mape_kfold(estimator, x, y):\n",
    "    predicted = estimator.predict(x)\n",
    "    return sum(abs((y - predicted) / y)) / len(y)"
   ]
  },
  {
   "cell_type": "code",
   "execution_count": 138,
   "id": "1ec374dc",
   "metadata": {},
   "outputs": [
    {
     "name": "stdout",
     "output_type": "stream",
     "text": [
      "RUN K-FOLD, splits = 10, shuffle = True\n"
     ]
    }
   ],
   "source": [
    "#Run k-fold\n",
    "print('RUN K-FOLD, splits = 10, shuffle = True')\n",
    "\n",
    "final_scores_cross_val_MAPE = cross_val_score(kf_model, x_kf, y, scoring=mape_kfold, cv=kf, n_jobs=1)\n"
   ]
  },
  {
   "cell_type": "code",
   "execution_count": 139,
   "id": "ee534aaf",
   "metadata": {},
   "outputs": [
    {
     "name": "stdout",
     "output_type": "stream",
     "text": [
      "MAPE:\n",
      "0.099741\n",
      "0.099181\n",
      "0.100115\n",
      "0.098977\n",
      "0.099957\n",
      "0.099141\n",
      "0.099992\n",
      "0.099790\n",
      "0.099964\n",
      "0.099968\n"
     ]
    }
   ],
   "source": [
    "print('MAPE:')\n",
    "for i in final_scores_cross_val_MAPE:\n",
    "    print('%5f' % i)"
   ]
  },
  {
   "attachments": {},
   "cell_type": "markdown",
   "id": "80f03593",
   "metadata": {},
   "source": [
    "# Run MLR to valdiate features omitted"
   ]
  },
  {
   "cell_type": "code",
   "execution_count": 140,
   "id": "3fda6e55",
   "metadata": {},
   "outputs": [],
   "source": [
    "import statsmodels.api as sm\n",
    "def get_stats(x,y):\n",
    "    results = sm.OLS(y, x).fit()\n",
    "    print(results.summary())"
   ]
  },
  {
   "cell_type": "code",
   "execution_count": 141,
   "id": "e94b2204",
   "metadata": {},
   "outputs": [
    {
     "name": "stdout",
     "output_type": "stream",
     "text": [
      "Run MLR on data with all columns\n",
      "\n",
      "                                 OLS Regression Results                                \n",
      "=======================================================================================\n",
      "Dep. Variable:                      y   R-squared (uncentered):                   0.159\n",
      "Model:                            OLS   Adj. R-squared (uncentered):              0.158\n",
      "Method:                 Least Squares   F-statistic:                              1212.\n",
      "Date:                Sun, 19 Mar 2023   Prob (F-statistic):                        0.00\n",
      "Time:                        15:51:26   Log-Likelihood:                     -1.1226e+07\n",
      "No. Observations:              952025   AIC:                                  2.245e+07\n",
      "Df Residuals:                  951877   BIC:                                  2.245e+07\n",
      "Df Model:                         148                                                  \n",
      "Covariance Type:            nonrobust                                                  \n",
      "==============================================================================\n",
      "                 coef    std err          t      P>|t|      [0.025      0.975]\n",
      "------------------------------------------------------------------------------\n",
      "x1          -549.1425     79.056     -6.946      0.000    -704.090    -394.195\n",
      "x2          -399.7089     87.545     -4.566      0.000    -571.294    -228.124\n",
      "x3          -914.5139    114.462     -7.990      0.000   -1138.855    -690.173\n",
      "x4          -491.3440    220.367     -2.230      0.026    -923.255     -59.433\n",
      "x5         -1164.7477    301.662     -3.861      0.000   -1755.996    -573.500\n",
      "x6         -1495.3738    255.930     -5.843      0.000   -1996.988    -993.759\n",
      "x7           -80.7098     56.981     -1.416      0.157    -192.390      30.971\n",
      "x8            -3.5010     69.293     -0.051      0.960    -139.313     132.311\n",
      "x9         -1990.7087   1439.637     -1.383      0.167   -4812.350     830.933\n",
      "x10          -12.9635     33.032     -0.392      0.695     -77.706      51.779\n",
      "x11        -3851.0583   1430.608     -2.692      0.007   -6655.003   -1047.114\n",
      "x12         -237.9155     60.517     -3.931      0.000    -356.526    -119.305\n",
      "x13          -41.5664     32.837     -1.266      0.206    -105.927      22.794\n",
      "x14         -782.9960     67.540    -11.593      0.000    -915.372    -650.620\n",
      "x15        -4296.7619    158.399    -27.126      0.000   -4607.218   -3986.306\n",
      "x16        -4450.5641    169.251    -26.296      0.000   -4782.290   -4118.838\n",
      "x17         -344.7706     36.728     -9.387      0.000    -416.756    -272.785\n",
      "x18         3187.9244     46.600     68.410      0.000    3096.589    3279.260\n",
      "x19          -58.5668     37.595     -1.558      0.119    -132.253      15.119\n",
      "x20           62.1060     33.181      1.872      0.061      -2.928     127.140\n",
      "x21          -48.3547     32.960     -1.467      0.142    -112.956      16.246\n",
      "x22          -96.2003     39.459     -2.438      0.015    -173.538     -18.863\n",
      "x23           82.6368     33.440      2.471      0.013      17.096     148.177\n",
      "x24           -3.6218     33.156     -0.109      0.913     -68.606      61.362\n",
      "x25           12.5719     32.788      0.383      0.701     -51.691      76.835\n",
      "x26            9.1541     32.818      0.279      0.780     -55.167      73.476\n",
      "x27          -25.7903     37.674     -0.685      0.494     -99.630      48.049\n",
      "x28         -211.0296     39.396     -5.357      0.000    -288.245    -133.815\n",
      "x29           20.9910     33.087      0.634      0.526     -43.857      85.839\n",
      "x30           12.6182     40.786      0.309      0.757     -67.320      92.556\n",
      "x31           21.7032     41.623      0.521      0.602     -59.877     103.284\n",
      "x32           -4.3206     32.926     -0.131      0.896     -68.854      60.213\n",
      "x33          -24.7214     35.114     -0.704      0.481     -93.544      44.101\n",
      "x34          133.3340     32.818      4.063      0.000      69.011     197.657\n",
      "x35          600.0857     44.139     13.595      0.000     513.575     686.597\n",
      "x36          834.6155     54.897     15.203      0.000     727.019     942.212\n",
      "x37         1061.7293     51.465     20.630      0.000     960.860    1162.598\n",
      "x38         -838.6869     55.107    -15.219      0.000    -946.694    -730.679\n",
      "x39          186.3247     54.788      3.401      0.001      78.942     293.707\n",
      "x40        -2329.9559    105.347    -22.117      0.000   -2536.432   -2123.480\n",
      "x41         -835.1047     51.249    -16.295      0.000    -935.551    -734.658\n",
      "x42        -1881.5067     68.337    -27.533      0.000   -2015.444   -1747.569\n",
      "x43         -149.6709     34.029     -4.398      0.000    -216.368     -82.974\n",
      "x44        -2543.3700    106.864    -23.800      0.000   -2752.820   -2333.920\n",
      "x45        -1341.9946     63.753    -21.050      0.000   -1466.948   -1217.041\n",
      "x46          -48.6485     33.849     -1.437      0.151    -114.991      17.694\n",
      "x47        -1327.9263     97.887    -13.566      0.000   -1519.782   -1136.071\n",
      "x48          -53.5515     32.816     -1.632      0.103    -117.870      10.767\n",
      "x49        -1072.4815     72.296    -14.835      0.000   -1214.179    -930.784\n",
      "x50         -196.6542     45.126     -4.358      0.000    -285.100    -108.208\n",
      "x51           -2.2998     32.778     -0.070      0.944     -66.544      61.945\n",
      "x52          308.6198     36.855      8.374      0.000     236.386     380.854\n",
      "x53        -2084.7188     88.825    -23.470      0.000   -2258.813   -1910.624\n",
      "x54        -1335.9036     66.495    -20.090      0.000   -1466.232   -1205.575\n",
      "x55          863.0825     39.921     21.620      0.000     784.838     941.327\n",
      "x56          513.6480     46.897     10.953      0.000     421.732     605.564\n",
      "x57          -87.2955     47.759     -1.828      0.068    -180.901       6.310\n",
      "x58           40.0991     36.678      1.093      0.274     -31.789     111.987\n",
      "x59          109.1106     33.273      3.279      0.001      43.897     174.324\n",
      "x60         -690.6566     55.446    -12.456      0.000    -799.330    -581.983\n",
      "x61         1620.9144     54.217     29.897      0.000    1514.652    1727.177\n",
      "x62          -36.8296     33.120     -1.112      0.266    -101.743      28.084\n",
      "x63         -403.1372     40.960     -9.842      0.000    -483.417    -322.858\n",
      "x64        -1867.4980     94.837    -19.692      0.000   -2053.375   -1681.621\n",
      "x65           -5.7810     32.841     -0.176      0.860     -70.147      58.586\n",
      "const      -3.725e-13   3.94e-14     -9.449      0.000    -4.5e-13   -2.95e-13\n",
      "x66          -26.8839     33.146     -0.811      0.417     -91.850      38.082\n",
      "x67           60.5478     32.920      1.839      0.066      -3.974     125.070\n",
      "x68        -1567.6826     64.288    -24.385      0.000   -1693.684   -1441.681\n",
      "x69         1680.4734     33.000     50.924      0.000    1615.795    1745.152\n",
      "x70          -45.4339     32.813     -1.385      0.166    -109.747      18.879\n",
      "x71          -68.4706     33.072     -2.070      0.038    -133.291      -3.650\n",
      "x72           -9.2210     33.906     -0.272      0.786     -75.676      57.234\n",
      "x73        -1270.8137    484.868     -2.621      0.009   -2221.140    -320.488\n",
      "x74          -35.2460     32.846     -1.073      0.283     -99.623      29.131\n",
      "x75         -739.4565     75.665     -9.773      0.000    -887.758    -591.155\n",
      "x76         -783.3427     56.317    -13.909      0.000    -893.723    -672.963\n",
      "x77          161.3347     44.008      3.666      0.000      75.080     247.589\n",
      "x78          -44.7794     42.690     -1.049      0.294    -128.450      38.891\n",
      "x79          -14.1692    116.312     -0.122      0.903    -242.137     213.799\n",
      "x80           -0.7521     34.422     -0.022      0.983     -68.217      66.713\n",
      "x81         -102.0345     82.252     -1.241      0.215    -263.245      59.176\n",
      "x82        -1118.4973    856.470     -1.306      0.192   -2797.149     560.155\n",
      "x83        -2457.1309   2776.210     -0.885      0.376   -7898.409    2984.148\n",
      "x84        -3794.9136   1835.463     -2.068      0.039   -7392.360    -197.467\n",
      "x85        -1108.5884   1869.515     -0.593      0.553   -4772.775    2555.598\n",
      "x86         -352.0273   1635.257     -0.215      0.830   -3557.077    2853.022\n",
      "x87         -146.9715    146.081     -1.006      0.314    -433.286     139.343\n",
      "x88          313.8478     53.419      5.875      0.000     209.148     418.548\n",
      "x89         -147.3079     34.089     -4.321      0.000    -214.121     -80.495\n",
      "x90          -70.6424     34.302     -2.059      0.039    -137.873      -3.411\n",
      "x91         -778.4151     36.601    -21.267      0.000    -850.152    -706.678\n",
      "x92        -2280.1331     70.758    -32.224      0.000   -2418.816   -2141.450\n",
      "x93        -3399.5593     77.324    -43.965      0.000   -3551.111   -3248.008\n",
      "x94        -2159.1474     54.319    -39.749      0.000   -2265.611   -2052.684\n",
      "x95          -11.3746     32.769     -0.347      0.729     -75.601      52.851\n",
      "x96          -18.1491     42.280     -0.429      0.668    -101.017      64.719\n",
      "x97           17.1775     39.366      0.436      0.663     -59.978      94.333\n",
      "x98          124.9837     64.553      1.936      0.053      -1.539     251.506\n",
      "x99          -30.8614     42.206     -0.731      0.465    -113.584      51.861\n",
      "x100         -56.3151     47.180     -1.194      0.233    -148.787      36.157\n",
      "x101         -23.6439     32.966     -0.717      0.473     -88.257      40.969\n",
      "x102        -114.7244     71.413     -1.606      0.108    -254.692      25.243\n",
      "x103         -55.6195     56.586     -0.983      0.326    -166.526      55.287\n",
      "x104          -3.7591     32.774     -0.115      0.909     -67.995      60.477\n",
      "x105         -38.5082     38.135     -1.010      0.313    -113.251      36.235\n",
      "x106         -97.5675     61.744     -1.580      0.114    -218.583      23.448\n",
      "x107         -62.3681     47.935     -1.301      0.193    -156.320      31.584\n",
      "x108         -40.4755     48.031     -0.843      0.399    -134.615      53.665\n",
      "x109          40.0001     39.654      1.009      0.313     -37.720     117.720\n",
      "x110         -49.0763     39.533     -1.241      0.214    -126.559      28.406\n",
      "x111          35.6474     43.813      0.814      0.416     -50.225     121.520\n",
      "x112         -29.3084     58.465     -0.501      0.616    -143.898      85.281\n",
      "x113        -127.2584     50.324     -2.529      0.011    -225.892     -28.625\n",
      "x114        -145.4322     88.321     -1.647      0.100    -318.539      27.674\n",
      "x115        -105.6249     53.149     -1.987      0.047    -209.795      -1.454\n",
      "x116         -91.7681     43.569     -2.106      0.035    -177.161      -6.375\n",
      "x117          36.7897     40.049      0.919      0.358     -41.706     115.285\n",
      "x118         -10.9339     44.323     -0.247      0.805     -97.806      75.939\n",
      "x119          -0.7929     37.853     -0.021      0.983     -74.984      73.398\n",
      "x120          11.3698     34.265      0.332      0.740     -55.789      78.529\n",
      "x121         -11.4638     33.021     -0.347      0.728     -76.185      53.257\n",
      "x122         -84.5886     57.382     -1.474      0.140    -197.056      27.879\n",
      "x123         -58.9865     70.623     -0.835      0.404    -197.406      79.433\n",
      "x124          35.3357     43.774      0.807      0.420     -50.461     121.132\n",
      "x125        -126.9191     84.103     -1.509      0.131    -291.758      37.920\n",
      "x126         -64.5196     56.768     -1.137      0.256    -175.784      46.745\n",
      "x127         -48.3499     35.991     -1.343      0.179    -118.890      22.191\n",
      "x128        -109.5034     56.237     -1.947      0.052    -219.725       0.718\n",
      "x129         -69.8838     43.966     -1.589      0.112    -156.056      16.289\n",
      "x130         -29.8457     33.393     -0.894      0.371     -95.294      35.603\n",
      "x131        -123.5104     86.708     -1.424      0.154    -293.454      46.433\n",
      "x132           2.5990     42.481      0.061      0.951     -80.662      85.860\n",
      "x133         -42.6805     45.728     -0.933      0.351    -132.306      46.945\n",
      "x134          -8.1654     47.402     -0.172      0.863    -101.071      84.740\n",
      "x135          -8.3984     34.892     -0.241      0.810     -76.786      59.989\n",
      "x136         -52.3027     43.788     -1.194      0.232    -138.125      33.520\n",
      "x137         -18.8361     65.793     -0.286      0.775    -147.789     110.117\n",
      "x138         -28.9179     40.129     -0.721      0.471    -107.569      49.733\n",
      "x139          -6.8160     51.568     -0.132      0.895    -107.888      94.256\n",
      "x140         -34.6772     51.982     -0.667      0.505    -136.561      67.206\n",
      "x141          13.9002     34.223      0.406      0.685     -53.175      80.976\n",
      "x142         -30.7373     51.819     -0.593      0.553    -132.302      70.827\n",
      "x143        -105.5883     46.072     -2.292      0.022    -195.887     -15.289\n",
      "x144         -34.1002     34.404     -0.991      0.322    -101.530      33.330\n",
      "x145         104.1601     34.917      2.983      0.003      35.723     172.597\n",
      "x146        1.102e+04     79.289    139.002      0.000    1.09e+04    1.12e+04\n",
      "x147       -4340.8272     46.048    -94.268      0.000   -4431.079   -4250.576\n",
      "x148         356.7474     33.780     10.561      0.000     290.540     422.955\n",
      "==============================================================================\n",
      "Omnibus:                  3402250.061   Durbin-Watson:                   0.114\n",
      "Prob(Omnibus):                  0.000   Jarque-Bera (JB):   20461403103830.594\n",
      "Skew:                          71.056   Prob(JB):                         0.00\n",
      "Kurtosis:                   22714.230   Cond. No.                     2.25e+15\n",
      "==============================================================================\n",
      "\n",
      "Notes:\n",
      "[1] R² is computed without centering (uncentered) since the model does not contain a constant.\n",
      "[2] Standard Errors assume that the covariance matrix of the errors is correctly specified.\n",
      "[3] The smallest eigenvalue is 1.02e-24. This might indicate that there are\n",
      "strong multicollinearity problems or that the design matrix is singular.\n"
     ]
    }
   ],
   "source": [
    "print('Run MLR on data with all columns')\n",
    "print('\\r')\n",
    "get_stats(x_train_scaled,y_train)"
   ]
  },
  {
   "cell_type": "code",
   "execution_count": 143,
   "id": "b4140f61",
   "metadata": {},
   "outputs": [
    {
     "name": "stdout",
     "output_type": "stream",
     "text": [
      "Run MLR on data with columns in dt_scaled_7\n",
      "\n",
      "                                 OLS Regression Results                                \n",
      "=======================================================================================\n",
      "Dep. Variable:                      y   R-squared (uncentered):                   0.154\n",
      "Model:                            OLS   Adj. R-squared (uncentered):              0.154\n",
      "Method:                 Least Squares   F-statistic:                              1595.\n",
      "Date:                Sun, 19 Mar 2023   Prob (F-statistic):                        0.00\n",
      "Time:                        15:52:31   Log-Likelihood:                     -1.1228e+07\n",
      "No. Observations:              952025   AIC:                                  2.246e+07\n",
      "Df Residuals:                  951916   BIC:                                  2.246e+07\n",
      "Df Model:                         109                                                  \n",
      "Covariance Type:            nonrobust                                                  \n",
      "==============================================================================\n",
      "                 coef    std err          t      P>|t|      [0.025      0.975]\n",
      "------------------------------------------------------------------------------\n",
      "x1          3242.7101     46.362     69.944      0.000    3151.843    3333.578\n",
      "x2             0.3124     34.916      0.009      0.993     -68.121      68.746\n",
      "x3           134.8433     32.884      4.101      0.000      70.392     199.295\n",
      "x4           724.8164     43.681     16.593      0.000     639.203     810.430\n",
      "x5           865.3545     52.636     16.440      0.000     762.190     968.519\n",
      "x6          1031.8001     33.268     31.015      0.000     966.596    1097.004\n",
      "x7          -630.0827     54.203    -11.625      0.000    -736.318    -523.847\n",
      "x8           333.2970     54.044      6.167      0.000     227.372     439.222\n",
      "x9         -1759.2458    103.020    -17.077      0.000   -1961.161   -1557.330\n",
      "x10        -1222.3658     47.999    -25.467      0.000   -1316.442   -1128.290\n",
      "x11        -2585.4635     64.804    -39.896      0.000   -2712.478   -2458.449\n",
      "x12          -93.1774     33.898     -2.749      0.006    -159.617     -26.738\n",
      "x13        -2019.2883    104.399    -19.342      0.000   -2223.907   -1814.670\n",
      "x14         -732.4218     62.092    -11.796      0.000    -854.120    -610.724\n",
      "x15         -159.9294     33.788     -4.733      0.000    -226.153     -93.706\n",
      "x16        -1062.3429     92.953    -11.429      0.000   -1244.528    -880.158\n",
      "x17          -26.7002     32.888     -0.812      0.417     -91.159      37.759\n",
      "x18         -871.7099     71.148    -12.252      0.000   -1011.158    -732.262\n",
      "x19         -251.7860     44.135     -5.705      0.000    -338.290    -165.282\n",
      "x20           -6.5219     32.854     -0.199      0.843     -70.914      57.871\n",
      "x21          348.3573     36.651      9.505      0.000     276.523     420.191\n",
      "x22        -1327.5514     84.836    -15.648      0.000   -1493.828   -1161.275\n",
      "x23        -1166.2205     65.223    -17.880      0.000   -1294.056   -1038.385\n",
      "x24         1038.7595     39.471     26.317      0.000     961.398    1116.121\n",
      "x25          396.1462     46.406      8.537      0.000     305.193     487.100\n",
      "x26          133.4572     47.065      2.836      0.005      41.211     225.704\n",
      "x27          192.5631     36.136      5.329      0.000     121.738     263.388\n",
      "x28           30.3916     33.270      0.913      0.361     -34.817      95.600\n",
      "x29         -479.7928     54.389     -8.821      0.000    -586.394    -373.192\n",
      "x30         1565.0046     52.887     29.591      0.000    1461.347    1668.662\n",
      "x31          -96.3599     33.159     -2.906      0.004    -161.351     -31.369\n",
      "x32         -328.7173     40.047     -8.208      0.000    -407.207    -250.227\n",
      "x33        -1481.5624     88.875    -16.670      0.000   -1655.755   -1307.370\n",
      "x34          -14.9284     32.889     -0.454      0.650     -79.390      49.534\n",
      "const       5.105e-13   6.48e-14      7.878      0.000    3.84e-13    6.38e-13\n",
      "x35          -44.7419     33.191     -1.348      0.178    -109.795      20.312\n",
      "x36           84.5429     32.950      2.566      0.010      19.963     149.123\n",
      "x37         -984.9107     62.222    -15.829      0.000   -1106.863    -862.958\n",
      "x38         1673.7254     33.032     50.669      0.000    1608.983    1738.468\n",
      "x39          -29.4026     32.885     -0.894      0.371     -93.855      35.050\n",
      "x40          -61.1940     33.134     -1.847      0.065    -126.135       3.747\n",
      "x41            8.5514     33.217      0.257      0.797     -56.554      73.656\n",
      "x42         -309.4311     59.732     -5.180      0.000    -426.503    -192.359\n",
      "x43          -35.2029     32.919     -1.069      0.285     -99.722      29.317\n",
      "x44         -528.4883     73.886     -7.153      0.000    -673.303    -383.674\n",
      "x45         -595.6281     55.657    -10.702      0.000    -704.714    -486.542\n",
      "x46          427.6152     42.833      9.983      0.000     343.663     511.567\n",
      "x47         -190.5293    192.497     -0.990      0.322    -567.817     186.758\n",
      "x48         2186.1746    617.364      3.541      0.000     976.162    3396.187\n",
      "x49           99.2737    408.368      0.243      0.808    -701.115     899.662\n",
      "x50         2123.4141    416.944      5.093      0.000    1306.218    2940.610\n",
      "x51         2255.9110    364.962      6.181      0.000    1540.598    2971.224\n",
      "x52           93.0555     45.622      2.040      0.041       3.638     182.473\n",
      "x53         -568.7196     36.180    -15.719      0.000    -639.631    -497.808\n",
      "x54         -974.0051     56.732    -17.169      0.000   -1085.198    -862.812\n",
      "x55        -2420.7078     60.972    -39.702      0.000   -2540.211   -2301.205\n",
      "x56          -12.8763     32.847     -0.392      0.695     -77.255      51.502\n",
      "x57          -10.7545     42.376     -0.254      0.800     -93.811      72.302\n",
      "x58           25.6936     39.455      0.651      0.515     -51.637     103.024\n",
      "x59           81.1199     64.681      1.254      0.210     -45.653     207.893\n",
      "x60           -4.4190     42.284     -0.105      0.917     -87.295      78.457\n",
      "x61          -30.7274     47.270     -0.650      0.516    -123.376      61.921\n",
      "x62          -12.7526     33.043     -0.386      0.700     -77.516      52.011\n",
      "x63         -127.1830     71.573     -1.777      0.076    -267.465      13.099\n",
      "x64          -49.5789     56.716     -0.874      0.382    -160.740      61.583\n",
      "x65           -3.0450     32.852     -0.093      0.926     -67.434      61.344\n",
      "x66          -10.1896     38.207     -0.267      0.790     -85.074      64.695\n",
      "x67          -81.8753     61.861     -1.324      0.186    -203.122      39.371\n",
      "x68          -44.9137     48.029     -0.935      0.350    -139.050      49.222\n",
      "x69          -21.6819     48.115     -0.451      0.652    -115.986      72.622\n",
      "x70           58.0810     39.741      1.461      0.144     -19.810     135.972\n",
      "x71          -23.6585     39.615     -0.597      0.550    -101.303      53.985\n",
      "x72           26.6866     43.914      0.608      0.543     -59.384     112.758\n",
      "x73           -1.6718     58.581     -0.029      0.977    -116.488     113.145\n",
      "x74         -113.6802     50.423     -2.255      0.024    -212.508     -14.853\n",
      "x75          -89.0394     88.452     -1.007      0.314    -262.402      84.323\n",
      "x76          -72.8952     53.234     -1.369      0.171    -177.233      31.442\n",
      "x77          -63.5445     43.632     -1.456      0.145    -149.062      21.973\n",
      "x78           36.6154     40.143      0.912      0.362     -42.064     115.294\n",
      "x79            4.5285     44.415      0.102      0.919     -82.524      91.581\n",
      "x80           19.2250     37.937      0.507      0.612     -55.130      93.580\n",
      "x81           18.9218     34.342      0.551      0.582     -48.388      86.231\n",
      "x82           -4.5060     33.099     -0.136      0.892     -69.380      60.367\n",
      "x83          -66.9603     57.492     -1.165      0.244    -179.642      45.722\n",
      "x84          -19.7610     70.730     -0.279      0.780    -158.390     118.868\n",
      "x85           36.8424     43.873      0.840      0.401     -49.146     122.831\n",
      "x86          -85.7397     84.244     -1.018      0.309    -250.855      79.376\n",
      "x87          -43.3256     56.895     -0.762      0.446    -154.838      68.186\n",
      "x88          -34.4477     36.068     -0.955      0.340    -105.140      36.245\n",
      "x89          -86.0019     56.333     -1.527      0.127    -196.413      24.409\n",
      "x90          -59.2999     44.069     -1.346      0.178    -145.673      27.073\n",
      "x91          -23.1194     33.470     -0.691      0.490     -88.720      42.482\n",
      "x92          -94.4490     86.882     -1.087      0.277    -264.735      75.837\n",
      "x93            3.3600     42.579      0.079      0.937     -80.093      86.813\n",
      "x94          -27.1601     45.815     -0.593      0.553    -116.955      62.635\n",
      "x95           -7.2249     47.512     -0.152      0.879    -100.347      85.898\n",
      "x96            2.7901     34.968      0.080      0.936     -65.746      71.327\n",
      "x97          -33.3721     43.883     -0.760      0.447    -119.380      52.636\n",
      "x98          -27.1508     65.946     -0.412      0.681    -156.403     102.102\n",
      "x99           -3.2583     40.204     -0.081      0.935     -82.056      75.540\n",
      "x100           5.2230     51.679      0.101      0.919     -96.067     106.513\n",
      "x101         -13.0816     52.086     -0.251      0.802    -115.169      89.006\n",
      "x102          22.2765     34.299      0.649      0.516     -44.949      89.502\n",
      "x103         -28.3919     51.935     -0.547      0.585    -130.183      73.399\n",
      "x104         -76.7105     46.141     -1.663      0.096    -167.145      13.724\n",
      "x105         -26.6070     34.480     -0.772      0.440     -94.186      40.972\n",
      "x106          94.9772     34.907      2.721      0.007      26.561     163.393\n",
      "x107        9361.0667     57.556    162.643      0.000    9248.259    9473.874\n",
      "x108       -4541.5485     45.374   -100.091      0.000   -4630.480   -4452.617\n",
      "x109         393.3553     33.832     11.627      0.000     327.046     459.665\n",
      "==============================================================================\n",
      "Omnibus:                  3269067.060   Durbin-Watson:                   0.123\n",
      "Prob(Omnibus):                  0.000   Jarque-Bera (JB):   14699002896378.932\n",
      "Skew:                          62.959   Prob(JB):                         0.00\n",
      "Kurtosis:                   19252.351   Cond. No.                     1.56e+16\n",
      "==============================================================================\n",
      "\n",
      "Notes:\n",
      "[1] R² is computed without centering (uncentered) since the model does not contain a constant.\n",
      "[2] Standard Errors assume that the covariance matrix of the errors is correctly specified.\n",
      "[3] The smallest eigenvalue is 1.19e-26. This might indicate that there are\n",
      "strong multicollinearity problems or that the design matrix is singular.\n"
     ]
    }
   ],
   "source": [
    "print('Run MLR on data with columns in dt_scaled_7')\n",
    "print('\\r')\n",
    "get_stats(x_train_scaled7,y_train)"
   ]
  },
  {
   "attachments": {},
   "cell_type": "markdown",
   "id": "392bb9bd",
   "metadata": {},
   "source": [
    "# Run Gradient Boosted Regression model"
   ]
  },
  {
   "cell_type": "code",
   "execution_count": 59,
   "id": "586dbb29",
   "metadata": {},
   "outputs": [],
   "source": [
    "from xgboost import XGBRegressor\n",
    "from sklearn.pipeline import make_pipeline\n",
    "from sklearn.model_selection import GridSearchCV\n"
   ]
  },
  {
   "cell_type": "code",
   "execution_count": 86,
   "id": "bf8ed225",
   "metadata": {},
   "outputs": [],
   "source": [
    "params = {\n",
    "    'objective': 'reg:squarederror',\n",
    "    'eval_metric': 'mape',\n",
    "    'learning_rate': 0.3,\n",
    "    'min_child_weight': 1,\n",
    "    'gamma': 0,\n",
    "    'subsample': 0.8,\n",
    "    'colsample_bytree': 0.8,\n",
    "    'n_estimators': 300\n",
    "}\n",
    "\n",
    "pipe = make_pipeline(\n",
    "    XGBRegressor(tree_method='gpu_hist', **params)\n",
    ")\n",
    "\n",
    "param_grid = {\n",
    "    'xgbregressor__n_estimators': [200, 300, 400, 500],\n",
    "    'xgbregressor__learning_rate': [0.1, 0.2, 0.25, 0.3]\n",
    "}\n",
    "cv = KFold(n_splits=10, shuffle=True, random_state=random_state)\n",
    "\n",
    "grid = GridSearchCV(pipe, param_grid=param_grid, cv=cv, scoring='neg_mean_absolute_percentage_error')"
   ]
  },
  {
   "cell_type": "code",
   "execution_count": 87,
   "id": "19a77264",
   "metadata": {},
   "outputs": [
    {
     "data": {
      "text/plain": [
       "GridSearchCV(cv=KFold(n_splits=10, random_state=2023, shuffle=True),\n",
       "             estimator=Pipeline(steps=[('xgbregressor',\n",
       "                                        XGBRegressor(base_score=None,\n",
       "                                                     booster=None,\n",
       "                                                     callbacks=None,\n",
       "                                                     colsample_bylevel=None,\n",
       "                                                     colsample_bynode=None,\n",
       "                                                     colsample_bytree=0.8,\n",
       "                                                     early_stopping_rounds=None,\n",
       "                                                     enable_categorical=False,\n",
       "                                                     eval_metric='mape',\n",
       "                                                     feature_types=None,\n",
       "                                                     gamma=0, gpu_id=None,\n",
       "                                                     grow_poli...\n",
       "                                                     max_delta_step=None,\n",
       "                                                     max_depth=None,\n",
       "                                                     max_leaves=None,\n",
       "                                                     min_child_weight=1,\n",
       "                                                     missing=nan,\n",
       "                                                     monotone_constraints=None,\n",
       "                                                     n_estimators=300,\n",
       "                                                     n_jobs=None,\n",
       "                                                     num_parallel_tree=None,\n",
       "                                                     predictor=None,\n",
       "                                                     random_state=None, ...))]),\n",
       "             param_grid={'xgbregressor__learning_rate': [0.1, 0.2, 0.25, 0.3],\n",
       "                         'xgbregressor__n_estimators': [200, 300, 400, 500]},\n",
       "             scoring='neg_mean_absolute_percentage_error')"
      ]
     },
     "execution_count": 87,
     "metadata": {},
     "output_type": "execute_result"
    }
   ],
   "source": [
    "grid.fit(x_train_scaled5, y_train)"
   ]
  },
  {
   "cell_type": "code",
   "execution_count": 88,
   "id": "95f3fce4",
   "metadata": {},
   "outputs": [
    {
     "name": "stdout",
     "output_type": "stream",
     "text": [
      "Best hyperparameters:  {'xgbregressor__learning_rate': 0.3, 'xgbregressor__n_estimators': 500}\n"
     ]
    }
   ],
   "source": [
    "best_estimator = grid.best_estimator_\n",
    "print(\"Best hyperparameters: \", grid.best_params_)"
   ]
  },
  {
   "cell_type": "code",
   "execution_count": 93,
   "id": "14d023e0",
   "metadata": {},
   "outputs": [
    {
     "name": "stdout",
     "output_type": "stream",
     "text": [
      "RMSE: 3674.379614\n",
      "R^2: 0.946114\n",
      "MAPE: 0.088713\n"
     ]
    }
   ],
   "source": [
    "print(\"RMSE: %.6f\" % np.sqrt(metrics.mean_squared_error(y_train, best_estimator.predict(x_train_scaled5))))\n",
    "print(\"R^2: %.6f\" % metrics.r2_score(y_train, best_estimator.predict(x_train_scaled5)))\n",
    "print(\"MAPE: %.6f\" % mape(y_train, best_estimator.predict(x_train_scaled5)))"
   ]
  },
  {
   "cell_type": "code",
   "execution_count": 90,
   "id": "5d9b63eb",
   "metadata": {},
   "outputs": [
    {
     "name": "stdout",
     "output_type": "stream",
     "text": [
      "RMSE: 7983.763431\n",
      "R^2: 0.732978\n",
      "MAPE: 0.155476\n"
     ]
    }
   ],
   "source": [
    "y_pred_XGBoost_scaled = best_estimator.predict(x_test_scaled5)\n",
    "\n",
    "print(\"RMSE: %.6f\" % np.sqrt(metrics.mean_squared_error(y_test, y_pred_XGBoost_scaled)))\n",
    "print(\"R^2: %.6f\" % metrics.r2_score(y_test, y_pred_XGBoost_scaled))\n",
    "print(\"MAPE: %.6f\" % mape(y_test, y_pred_XGBoost_scaled))"
   ]
  },
  {
   "attachments": {},
   "cell_type": "markdown",
   "id": "909db138",
   "metadata": {},
   "source": [
    "Note: overfitting identified"
   ]
  },
  {
   "cell_type": "code",
   "execution_count": 135,
   "id": "65c31126",
   "metadata": {},
   "outputs": [
    {
     "data": {
      "text/plain": [
       "XGBRegressor(base_score=None, booster=None, callbacks=None,\n",
       "             colsample_bylevel=None, colsample_bynode=None,\n",
       "             colsample_bytree=0.8, early_stopping_rounds=None,\n",
       "             enable_categorical=False, eval_metric=None, feature_types=None,\n",
       "             gamma=0, gpu_id=None, grow_policy=None, importance_type=None,\n",
       "             interaction_constraints=None, learning_rate=0.05, max_bin=None,\n",
       "             max_cat_threshold=None, max_cat_to_onehot=None,\n",
       "             max_delta_step=None, max_depth=6, max_leaves=None,\n",
       "             min_child_weight=1, missing=nan, monotone_constraints=None,\n",
       "             n_estimators=150, n_jobs=None, num_parallel_tree=None,\n",
       "             predictor=None, random_state=None, ...)"
      ]
     },
     "execution_count": 135,
     "metadata": {},
     "output_type": "execute_result"
    }
   ],
   "source": [
    "params = {\n",
    "    'objective': 'reg:squarederror',\n",
    "    'learning_rate': 0.05,\n",
    "    'min_child_weight': 1,\n",
    "    'gamma': 0,\n",
    "    'subsample': 0.8,\n",
    "    'colsample_bytree': 0.8,\n",
    "    'max_depth': 6,\n",
    "    'n_estimators': 150\n",
    "}\n",
    "\n",
    "xgDT = XGBRegressor(tree_method='gpu_hist', **params)\n",
    "xgDT.fit(x_train_scaled5, y_train)"
   ]
  },
  {
   "cell_type": "code",
   "execution_count": 136,
   "id": "cb0f4690",
   "metadata": {},
   "outputs": [
    {
     "name": "stdout",
     "output_type": "stream",
     "text": [
      "RMSE: 6921.511713\n",
      "R^2: 0.799306\n",
      "MAPE: 0.164349\n"
     ]
    }
   ],
   "source": [
    "y_pred_xgDT_scaled = xgDT.predict(x_test_scaled5)\n",
    "\n",
    "print(\"RMSE: %.6f\" % np.sqrt(metrics.mean_squared_error(y_test, y_pred_xgDT_scaled)))\n",
    "print(\"R^2: %.6f\" % metrics.r2_score(y_test, y_pred_xgDT_scaled))\n",
    "print(\"MAPE: %.6f\" % mape(y_test, y_pred_xgDT_scaled))"
   ]
  }
 ],
 "metadata": {
  "jupytext": {
   "cell_metadata_filter": "-all",
   "encoding": "# coding: utf-8",
   "executable": "/usr/bin/env python",
   "main_language": "python",
   "notebook_metadata_filter": "-all"
  },
  "kernelspec": {
   "display_name": "Python 3 (ipykernel)",
   "language": "python",
   "name": "python3"
  },
  "language_info": {
   "codemirror_mode": {
    "name": "ipython",
    "version": 3
   },
   "file_extension": ".py",
   "mimetype": "text/x-python",
   "name": "python",
   "nbconvert_exporter": "python",
   "pygments_lexer": "ipython3",
   "version": "3.10.1"
  }
 },
 "nbformat": 4,
 "nbformat_minor": 5
}
